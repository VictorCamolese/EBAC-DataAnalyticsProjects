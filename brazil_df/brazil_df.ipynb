{
  "nbformat": 4,
  "nbformat_minor": 0,
  "metadata": {
    "colab": {
      "provenance": []
    },
    "kernelspec": {
      "name": "python3",
      "display_name": "Python 3"
    }
  },
  "cells": [
    {
      "cell_type": "markdown",
      "metadata": {
        "id": "KJqp9AANOCtf"
      },
      "source": [
        "<img src=\"https://raw.githubusercontent.com/andre-marcos-perez/ebac-course-utils/main/media/logo/newebac_logo_black_half.png\" alt=\"ebac-logo\">\n",
        "\n",
        "---\n",
        "\n",
        "# **Módulo** | Análise de Dados: Data Wrangling II\n",
        "Caderno de **Exercícios**<br>\n",
        "Professor [André Perez](https://www.linkedin.com/in/andremarcosperez/)\n",
        "\n",
        "---"
      ]
    },
    {
      "cell_type": "markdown",
      "metadata": {
        "id": "d9jDtUbDOE1-"
      },
      "source": [
        "# **Tópicos**\n",
        "\n",
        "<ol type=\"1\">\n",
        "  <li>Agregação e Ordenação;</li>\n",
        "  <li>Combinação;</li>\n",
        "  <li>Técnicas Avançadas.</li>\n",
        "</ol>"
      ]
    },
    {
      "cell_type": "markdown",
      "metadata": {
        "id": "SmoHgt-lwkpD"
      },
      "source": [
        "---"
      ]
    },
    {
      "cell_type": "markdown",
      "metadata": {
        "id": "GABI6OW8OfQ2"
      },
      "source": [
        "# **Exercícios**"
      ]
    },
    {
      "cell_type": "markdown",
      "metadata": {
        "id": "45DbYPgFhuR7"
      },
      "source": [
        "Neste exercícios, vamos trabalhar com dados geográficos, demográficos e econômicos do Brasil. Vamos manipular e combinar dados de duas frentes distintas para poder responder perguntas de negócios."
      ]
    },
    {
      "cell_type": "markdown",
      "metadata": {
        "id": "GWgNoJN8DHyY"
      },
      "source": [
        "## 1\\. Data Wrangling"
      ]
    },
    {
      "cell_type": "markdown",
      "metadata": {
        "id": "E30KnCdKRdYl"
      },
      "source": [
        "### **1.1. Estados**"
      ]
    },
    {
      "cell_type": "markdown",
      "metadata": {
        "id": "w2q1apyNYHbu"
      },
      "source": [
        "O arquivo `estados-bruto.xml` contém informações sobre estados (nome, sigla e região). **Carregue-o na máquina virtual do Google Colab**. Um arquivo do tipo XML é similar a um arquivo do tipo HTML, exemplo do estado do Acre:"
      ]
    },
    {
      "cell_type": "markdown",
      "metadata": {
        "id": "GzjE2aEyYW5A"
      },
      "source": [
        "```xml\n",
        "<ESTADO>\n",
        "  <ID>1</ID>\n",
        "  <NOME>ACRE</NOME>\n",
        "  <IDCAPITAL>16</IDCAPITAL>\n",
        "  <SIGLA>AC</SIGLA>\n",
        "  <REGIAO>NORTE</REGIAO>\n",
        "</ESTADO>\n",
        "```"
      ]
    },
    {
      "cell_type": "markdown",
      "metadata": {
        "id": "7Mtk7Dd9UHqg"
      },
      "source": [
        "Utilize o pacote Python `beautifulsoup4` para extrair os dados do arquivo `estados-bruto.xml` providenciado. Salve os dados extraidos no arquivo `estados-limpo.csv` separado por `;`. Exemplo das três primeiras linhas mais o cabeçalho:\n",
        "\n",
        "```\n",
        "estado;sigla;regiao\n",
        "ACRE;AC;NORTE\n",
        "ALAGOAS;AL;NORDESTE\n",
        "AMAPA;AP;NORTE\n",
        "```\n",
        "\n",
        "**Dica**: Utilize o parser de xml chamado `lxml` do `beautifulsoup4`."
      ]
    },
    {
      "cell_type": "code",
      "source": [
        "!pip install lxml"
      ],
      "metadata": {
        "colab": {
          "base_uri": "https://localhost:8080/"
        },
        "id": "5QCa6j4ND5QC",
        "outputId": "867250d7-10b9-49f8-aef8-57249d3ce206"
      },
      "execution_count": 4,
      "outputs": [
        {
          "output_type": "stream",
          "name": "stdout",
          "text": [
            "Looking in indexes: https://pypi.org/simple, https://us-python.pkg.dev/colab-wheels/public/simple/\n",
            "Requirement already satisfied: lxml in /usr/local/lib/python3.10/dist-packages (4.9.2)\n"
          ]
        }
      ]
    },
    {
      "cell_type": "code",
      "metadata": {
        "id": "kz0ZyYI0Sg6P",
        "colab": {
          "base_uri": "https://localhost:8080/"
        },
        "outputId": "0732bc45-b0de-443f-ccf6-264e36be5708"
      },
      "source": [
        "# ler o arquivo estados-bruto.xml, utilize o xml parser chamado lxml\n",
        "\n",
        "from bs4 import BeautifulSoup\n",
        "\n",
        "NOME_ARQUIVO_FONTE = 'estados-bruto.xml'\n",
        "\n",
        "fonte = BeautifulSoup(open(NOME_ARQUIVO_FONTE, mode='r'), 'lxml')\n",
        "print(fonte)"
      ],
      "execution_count": 5,
      "outputs": [
        {
          "output_type": "stream",
          "name": "stdout",
          "text": [
            "<?xml version=\"1.0\" encoding=\"utf-8\" ?><html><body><estados>\n",
            "<estado>\n",
            "<id>1</id>\n",
            "<nome>ACRE</nome>\n",
            "<idcapital>16</idcapital>\n",
            "<sigla>AC</sigla>\n",
            "<regiao>NORTE</regiao>\n",
            "</estado>\n",
            "<estado>\n",
            "<id>2</id>\n",
            "<nome>ALAGOAS</nome>\n",
            "<idcapital>68</idcapital>\n",
            "<sigla>AL</sigla>\n",
            "<regiao>NORDESTE</regiao>\n",
            "</estado>\n",
            "<estado>\n",
            "<id>3</id>\n",
            "<nome>AMAPA</nome>\n",
            "<idcapital>131</idcapital>\n",
            "<sigla>AP</sigla>\n",
            "<regiao>NORTE</regiao>\n",
            "</estado>\n",
            "<estado>\n",
            "<id>4</id>\n",
            "<nome>AMAZONAS</nome>\n",
            "<idcapital>178</idcapital>\n",
            "<sigla>AM</sigla>\n",
            "<regiao>NORTE</regiao>\n",
            "</estado>\n",
            "<estado>\n",
            "<id>5</id>\n",
            "<nome>BAHIA</nome>\n",
            "<idcapital>536</idcapital>\n",
            "<sigla>BA</sigla>\n",
            "<regiao>NORDESTE</regiao>\n",
            "</estado>\n",
            "<estado>\n",
            "<id>6</id>\n",
            "<nome>CEARA</nome>\n",
            "<idcapital>676</idcapital>\n",
            "<sigla>CE</sigla>\n",
            "<regiao>NORDESTE</regiao>\n",
            "</estado>\n",
            "<estado>\n",
            "<id>7</id>\n",
            "<nome>DISTRITO FEDERAL</nome>\n",
            "<idcapital>916</idcapital>\n",
            "<sigla>DF</sigla>\n",
            "<regiao>CENTRO-OESTE</regiao>\n",
            "</estado>\n",
            "<estado>\n",
            "<id>8</id>\n",
            "<nome>ESPIRITO SANTO</nome>\n",
            "<idcapital>879</idcapital>\n",
            "<sigla>ES</sigla>\n",
            "<regiao>SUDESTE</regiao>\n",
            "</estado>\n",
            "<estado>\n",
            "<id>9</id>\n",
            "<nome>GOIAS</nome>\n",
            "<idcapital>973</idcapital>\n",
            "<sigla>GO</sigla>\n",
            "<regiao>CENTRO-OESTE</regiao>\n",
            "</estado>\n",
            "<estado>\n",
            "<id>10</id>\n",
            "<nome>MARANHAO</nome>\n",
            "<idcapital>1309</idcapital>\n",
            "<sigla>MA</sigla>\n",
            "<regiao>NORDESTE</regiao>\n",
            "</estado>\n",
            "<estado>\n",
            "<id>11</id>\n",
            "<nome>MATO GROSSO</nome>\n",
            "<idcapital>1374</idcapital>\n",
            "<sigla>MT</sigla>\n",
            "<regiao>CENTRO-OESTE</regiao>\n",
            "</estado>\n",
            "<estado>\n",
            "<id>12</id>\n",
            "<nome>MATO GROSSO DO SUL</nome>\n",
            "<idcapital>1485</idcapital>\n",
            "<sigla>MS</sigla>\n",
            "<regiao>CENTRO-OESTE</regiao>\n",
            "</estado>\n",
            "<estado>\n",
            "<id>13</id>\n",
            "<nome>PARA</nome>\n",
            "<idcapital>1561</idcapital>\n",
            "<sigla>PA</sigla>\n",
            "<regiao>NORTE</regiao>\n",
            "</estado>\n",
            "<estado>\n",
            "<id>14</id>\n",
            "<nome>PARAIBA</nome>\n",
            "<idcapital>1779</idcapital>\n",
            "<sigla>PB</sigla>\n",
            "<regiao>NORDESTE</regiao>\n",
            "</estado>\n",
            "<estado>\n",
            "<id>15</id>\n",
            "<nome>PARANA</nome>\n",
            "<idcapital>2002</idcapital>\n",
            "<sigla>PR</sigla>\n",
            "<regiao>SUL</regiao>\n",
            "</estado>\n",
            "<estado>\n",
            "<id>16</id>\n",
            "<nome>PERNAMBUCO</nome>\n",
            "<idcapital>2439</idcapital>\n",
            "<sigla>PE</sigla>\n",
            "<regiao>NORDESTE</regiao>\n",
            "</estado>\n",
            "<estado>\n",
            "<id>17</id>\n",
            "<nome>PIAUI</nome>\n",
            "<idcapital>2704</idcapital>\n",
            "<sigla>PI</sigla>\n",
            "<regiao>NORDESTE</regiao>\n",
            "</estado>\n",
            "<estado>\n",
            "<id>18</id>\n",
            "<nome>RIO DE JANEIRO</nome>\n",
            "<idcapital>2779</idcapital>\n",
            "<sigla>RJ</sigla>\n",
            "<regiao>SUDESTE</regiao>\n",
            "</estado>\n",
            "<estado>\n",
            "<id>19</id>\n",
            "<nome>RIO GRANDE DO NORTE</nome>\n",
            "<idcapital>2890</idcapital>\n",
            "<sigla>RN</sigla>\n",
            "<regiao>NORDESTE</regiao>\n",
            "</estado>\n",
            "<estado>\n",
            "<id>20</id>\n",
            "<nome>RIO GRANDE DO SUL</nome>\n",
            "<idcapital>3273</idcapital>\n",
            "<sigla>RS</sigla>\n",
            "<regiao>SUL</regiao>\n",
            "</estado>\n",
            "<estado>\n",
            "<id>21</id>\n",
            "<nome>RONDONIA</nome>\n",
            "<idcapital>3473</idcapital>\n",
            "<sigla>RO</sigla>\n",
            "<regiao>NORTE</regiao>\n",
            "</estado>\n",
            "<estado>\n",
            "<id>22</id>\n",
            "<nome>RORAIMA</nome>\n",
            "<idcapital>3491</idcapital>\n",
            "<sigla>RR</sigla>\n",
            "<regiao>NORTE</regiao>\n",
            "</estado>\n",
            "<estado>\n",
            "<id>23</id>\n",
            "<nome>SANTA CATARINA</nome>\n",
            "<idcapital>3591</idcapital>\n",
            "<sigla>SC</sigla>\n",
            "<regiao>SUL</regiao>\n",
            "</estado>\n",
            "<estado>\n",
            "<id>24</id>\n",
            "<nome>SAO PAULO</nome>\n",
            "<idcapital>4361</idcapital>\n",
            "<sigla>SP</sigla>\n",
            "<regiao>SUDESTE</regiao>\n",
            "</estado>\n",
            "<estado>\n",
            "<id>25</id>\n",
            "<nome>SERGIPE</nome>\n",
            "<idcapital>4444</idcapital>\n",
            "<sigla>SE</sigla>\n",
            "<regiao>NORDESTE</regiao>\n",
            "</estado>\n",
            "<estado>\n",
            "<id>26</id>\n",
            "<nome>TOCANTINS</nome>\n",
            "<idcapital>4606</idcapital>\n",
            "<sigla>TO</sigla>\n",
            "<regiao>NORTE</regiao>\n",
            "</estado>\n",
            "<estado>\n",
            "<id>27</id>\n",
            "<nome>MINAS GERAIS</nome>\n",
            "<idcapital>4790</idcapital>\n",
            "<sigla>MG</sigla>\n",
            "<regiao>SUDESTE</regiao>\n",
            "</estado>\n",
            "</estados>\n",
            "</body></html>\n"
          ]
        },
        {
          "output_type": "stream",
          "name": "stderr",
          "text": [
            "/usr/local/lib/python3.10/dist-packages/bs4/builder/__init__.py:545: XMLParsedAsHTMLWarning: It looks like you're parsing an XML document using an HTML parser. If this really is an HTML document (maybe it's XHTML?), you can ignore or filter this warning. If it's XML, you should know that using an XML parser will be more reliable. To parse this document as XML, make sure you have the lxml package installed, and pass the keyword argument `features=\"xml\"` into the BeautifulSoup constructor.\n",
            "  warnings.warn(\n"
          ]
        }
      ]
    },
    {
      "cell_type": "code",
      "metadata": {
        "id": "rB0u2NjEXhDo",
        "colab": {
          "base_uri": "https://localhost:8080/"
        },
        "outputId": "69234162-0df3-499e-9de4-2fdc7788541a"
      },
      "source": [
        "import csv\n",
        "\n",
        "# capturando as informações do xml\n",
        "dados = []\n",
        "for i in fonte.find_all('estado'):\n",
        "  # estado_id_capt = i.idcapital.text\n",
        "  estado_nome = i.nome.text\n",
        "  estado_sigla = i.sigla.text\n",
        "  estado_regiao = i.regiao.text\n",
        "  dados.append((estado_nome, estado_sigla, estado_regiao))\n",
        "\n",
        "# escrevendo o arquivo csv filtrado\n",
        "NOME_ARQUIVO_DESTINO = 'estados-limpo.csv'\n",
        "with open(NOME_ARQUIVO_DESTINO, 'w', encoding='utf8') as fp:\n",
        "  escrever = csv.writer(fp)\n",
        "  escrever.writerow(['estado','sigla','regiao'])\n",
        "  escrever.writerows(dados)\n",
        "\n",
        "print(f'{NOME_ARQUIVO_DESTINO}\\narquivo gerado!')"
      ],
      "execution_count": 6,
      "outputs": [
        {
          "output_type": "stream",
          "name": "stdout",
          "text": [
            "estados-limpo.csv\n",
            "arquivo gerado!\n"
          ]
        }
      ]
    },
    {
      "cell_type": "markdown",
      "metadata": {
        "id": "Fq0xqYYSYq92"
      },
      "source": [
        "### **1.2. Cidades**"
      ]
    },
    {
      "cell_type": "markdown",
      "metadata": {
        "id": "eWRbjhOQYq93"
      },
      "source": [
        "O arquivo `cidades-bruto.csv` contém informações demográficas e socioeconomicas das cidades do Brasil. **Carregue-o na máquina virtual do Google Colab**. Utilize o pacote Python `pandas` para extrair os dados do arquivo `cidades-bruto.xml` providenciado. Seguindo as seguintes especificações:"
      ]
    },
    {
      "cell_type": "markdown",
      "metadata": {
        "id": "76zW8sMsbhEu"
      },
      "source": [
        "1. Apenas dados do censo de 2010;\n",
        "1. Apenas as colunas UF, Nome, PIB, Pop_est_2009 e PIB_percapita."
      ]
    },
    {
      "cell_type": "markdown",
      "metadata": {
        "id": "auiIxlw-blp8"
      },
      "source": [
        "Salve os dados extraidos no arquivo `cidades-limpo.csv` separado por `;`. Exemplo das três primeiras linhas mais o cabeçalho:\n",
        "\n",
        "```\n",
        "estado;cidade;populacao;pib;pib_percapita\n",
        "BAHIA;TREMEDAL;18433;57883.9921875;3140.23999023\n",
        "RIO GRANDE DO SUL;TURUÇU;4000;45723875;11430.96972656\n",
        "ESPIRITO SANTO;VITÓRIA;320156;19782628;61790.58984375\n",
        "```"
      ]
    },
    {
      "cell_type": "code",
      "metadata": {
        "id": "nBmWOkvzYq94",
        "colab": {
          "base_uri": "https://localhost:8080/",
          "height": 280
        },
        "outputId": "769c241d-c3bf-48fe-cf4a-00ebcf4fb6fa"
      },
      "source": [
        "# ler o arquivo cidades-bruto.csv\n",
        "import pandas as pd\n",
        "import csv\n",
        "\n",
        "NOME_ARQUIVO_FONTE = 'cidades-bruto.csv'\n",
        "\n",
        "fonte = pd.read_csv(NOME_ARQUIVO_FONTE, encoding='utf8')\n",
        "fonte.head(2)"
      ],
      "execution_count": 7,
      "outputs": [
        {
          "output_type": "execute_result",
          "data": {
            "text/plain": [
              "                                               FID  gid                 UF  \\\n",
              "0  vw_pib_percapita.fid-4514e25a_17aaa325034_-258f  215              BAHIA   \n",
              "1  vw_pib_percapita.fid-4514e25a_17aaa325034_-258e  306  RIO GRANDE DO SUL   \n",
              "\n",
              "       nome   Censo           PIB  Pop_est_2009  PIB_percapita  \\\n",
              "0  Tremedal  2010.0  57883.992188         18433    3140.239990   \n",
              "1    Turuçu  2010.0  45723.875000          4000   11430.969727   \n",
              "\n",
              "                          Descrição             legenda  classe  \\\n",
              "0  Produto Interno Bruto per capita           - 9639.65       1   \n",
              "1  Produto Interno Bruto per capita  9639.65 - 22144.80       2   \n",
              "\n",
              "                                                geom  \n",
              "0  MULTIPOLYGON (((-41.458803305191566 -14.781415...  \n",
              "1  MULTIPOLYGON (((-52.035349932081274 -31.567509...  "
            ],
            "text/html": [
              "\n",
              "  <div id=\"df-b85248ac-73bd-4676-afe3-9b2eb1d164b7\">\n",
              "    <div class=\"colab-df-container\">\n",
              "      <div>\n",
              "<style scoped>\n",
              "    .dataframe tbody tr th:only-of-type {\n",
              "        vertical-align: middle;\n",
              "    }\n",
              "\n",
              "    .dataframe tbody tr th {\n",
              "        vertical-align: top;\n",
              "    }\n",
              "\n",
              "    .dataframe thead th {\n",
              "        text-align: right;\n",
              "    }\n",
              "</style>\n",
              "<table border=\"1\" class=\"dataframe\">\n",
              "  <thead>\n",
              "    <tr style=\"text-align: right;\">\n",
              "      <th></th>\n",
              "      <th>FID</th>\n",
              "      <th>gid</th>\n",
              "      <th>UF</th>\n",
              "      <th>nome</th>\n",
              "      <th>Censo</th>\n",
              "      <th>PIB</th>\n",
              "      <th>Pop_est_2009</th>\n",
              "      <th>PIB_percapita</th>\n",
              "      <th>Descrição</th>\n",
              "      <th>legenda</th>\n",
              "      <th>classe</th>\n",
              "      <th>geom</th>\n",
              "    </tr>\n",
              "  </thead>\n",
              "  <tbody>\n",
              "    <tr>\n",
              "      <th>0</th>\n",
              "      <td>vw_pib_percapita.fid-4514e25a_17aaa325034_-258f</td>\n",
              "      <td>215</td>\n",
              "      <td>BAHIA</td>\n",
              "      <td>Tremedal</td>\n",
              "      <td>2010.0</td>\n",
              "      <td>57883.992188</td>\n",
              "      <td>18433</td>\n",
              "      <td>3140.239990</td>\n",
              "      <td>Produto Interno Bruto per capita</td>\n",
              "      <td>- 9639.65</td>\n",
              "      <td>1</td>\n",
              "      <td>MULTIPOLYGON (((-41.458803305191566 -14.781415...</td>\n",
              "    </tr>\n",
              "    <tr>\n",
              "      <th>1</th>\n",
              "      <td>vw_pib_percapita.fid-4514e25a_17aaa325034_-258e</td>\n",
              "      <td>306</td>\n",
              "      <td>RIO GRANDE DO SUL</td>\n",
              "      <td>Turuçu</td>\n",
              "      <td>2010.0</td>\n",
              "      <td>45723.875000</td>\n",
              "      <td>4000</td>\n",
              "      <td>11430.969727</td>\n",
              "      <td>Produto Interno Bruto per capita</td>\n",
              "      <td>9639.65 - 22144.80</td>\n",
              "      <td>2</td>\n",
              "      <td>MULTIPOLYGON (((-52.035349932081274 -31.567509...</td>\n",
              "    </tr>\n",
              "  </tbody>\n",
              "</table>\n",
              "</div>\n",
              "      <button class=\"colab-df-convert\" onclick=\"convertToInteractive('df-b85248ac-73bd-4676-afe3-9b2eb1d164b7')\"\n",
              "              title=\"Convert this dataframe to an interactive table.\"\n",
              "              style=\"display:none;\">\n",
              "        \n",
              "  <svg xmlns=\"http://www.w3.org/2000/svg\" height=\"24px\"viewBox=\"0 0 24 24\"\n",
              "       width=\"24px\">\n",
              "    <path d=\"M0 0h24v24H0V0z\" fill=\"none\"/>\n",
              "    <path d=\"M18.56 5.44l.94 2.06.94-2.06 2.06-.94-2.06-.94-.94-2.06-.94 2.06-2.06.94zm-11 1L8.5 8.5l.94-2.06 2.06-.94-2.06-.94L8.5 2.5l-.94 2.06-2.06.94zm10 10l.94 2.06.94-2.06 2.06-.94-2.06-.94-.94-2.06-.94 2.06-2.06.94z\"/><path d=\"M17.41 7.96l-1.37-1.37c-.4-.4-.92-.59-1.43-.59-.52 0-1.04.2-1.43.59L10.3 9.45l-7.72 7.72c-.78.78-.78 2.05 0 2.83L4 21.41c.39.39.9.59 1.41.59.51 0 1.02-.2 1.41-.59l7.78-7.78 2.81-2.81c.8-.78.8-2.07 0-2.86zM5.41 20L4 18.59l7.72-7.72 1.47 1.35L5.41 20z\"/>\n",
              "  </svg>\n",
              "      </button>\n",
              "      \n",
              "  <style>\n",
              "    .colab-df-container {\n",
              "      display:flex;\n",
              "      flex-wrap:wrap;\n",
              "      gap: 12px;\n",
              "    }\n",
              "\n",
              "    .colab-df-convert {\n",
              "      background-color: #E8F0FE;\n",
              "      border: none;\n",
              "      border-radius: 50%;\n",
              "      cursor: pointer;\n",
              "      display: none;\n",
              "      fill: #1967D2;\n",
              "      height: 32px;\n",
              "      padding: 0 0 0 0;\n",
              "      width: 32px;\n",
              "    }\n",
              "\n",
              "    .colab-df-convert:hover {\n",
              "      background-color: #E2EBFA;\n",
              "      box-shadow: 0px 1px 2px rgba(60, 64, 67, 0.3), 0px 1px 3px 1px rgba(60, 64, 67, 0.15);\n",
              "      fill: #174EA6;\n",
              "    }\n",
              "\n",
              "    [theme=dark] .colab-df-convert {\n",
              "      background-color: #3B4455;\n",
              "      fill: #D2E3FC;\n",
              "    }\n",
              "\n",
              "    [theme=dark] .colab-df-convert:hover {\n",
              "      background-color: #434B5C;\n",
              "      box-shadow: 0px 1px 3px 1px rgba(0, 0, 0, 0.15);\n",
              "      filter: drop-shadow(0px 1px 2px rgba(0, 0, 0, 0.3));\n",
              "      fill: #FFFFFF;\n",
              "    }\n",
              "  </style>\n",
              "\n",
              "      <script>\n",
              "        const buttonEl =\n",
              "          document.querySelector('#df-b85248ac-73bd-4676-afe3-9b2eb1d164b7 button.colab-df-convert');\n",
              "        buttonEl.style.display =\n",
              "          google.colab.kernel.accessAllowed ? 'block' : 'none';\n",
              "\n",
              "        async function convertToInteractive(key) {\n",
              "          const element = document.querySelector('#df-b85248ac-73bd-4676-afe3-9b2eb1d164b7');\n",
              "          const dataTable =\n",
              "            await google.colab.kernel.invokeFunction('convertToInteractive',\n",
              "                                                     [key], {});\n",
              "          if (!dataTable) return;\n",
              "\n",
              "          const docLinkHtml = 'Like what you see? Visit the ' +\n",
              "            '<a target=\"_blank\" href=https://colab.research.google.com/notebooks/data_table.ipynb>data table notebook</a>'\n",
              "            + ' to learn more about interactive tables.';\n",
              "          element.innerHTML = '';\n",
              "          dataTable['output_type'] = 'display_data';\n",
              "          await google.colab.output.renderOutput(dataTable, element);\n",
              "          const docLink = document.createElement('div');\n",
              "          docLink.innerHTML = docLinkHtml;\n",
              "          element.appendChild(docLink);\n",
              "        }\n",
              "      </script>\n",
              "    </div>\n",
              "  </div>\n",
              "  "
            ]
          },
          "metadata": {},
          "execution_count": 7
        }
      ]
    },
    {
      "cell_type": "code",
      "metadata": {
        "id": "2NKpI4h9Yq95",
        "colab": {
          "base_uri": "https://localhost:8080/",
          "height": 423
        },
        "outputId": "2a5687c9-4451-4462-b308-aab7100cfb36"
      },
      "source": [
        "# filtrando os dados\n",
        "fonte = fonte.query('Censo == 2010.0')\n",
        "fonte = fonte[['UF','nome','PIB','Pop_est_2009','PIB_percapita']]\n",
        "fonte"
      ],
      "execution_count": 8,
      "outputs": [
        {
          "output_type": "execute_result",
          "data": {
            "text/plain": [
              "                     UF              nome           PIB  Pop_est_2009  \\\n",
              "0                 BAHIA          Tremedal  5.788399e+04         18433   \n",
              "1     RIO GRANDE DO SUL            Turuçu  4.572388e+04          4000   \n",
              "2        ESPIRITO SANTO           Vitória  1.978263e+07        320156   \n",
              "3          MINAS GERAIS         Jacutinga  2.478160e+05         21424   \n",
              "4                 PIAUÍ           Nazária  2.095138e+04          7895   \n",
              "...                 ...               ...           ...           ...   \n",
              "5561     SANTA CATARINA         Campo Erê  1.876289e+05          9737   \n",
              "5562             PARANÁ          Planalto  1.385535e+05         13983   \n",
              "5563          SÃO PAULO        Guararapes  5.320191e+05         29639   \n",
              "5564  RIO GRANDE DO SUL  Barra do Guarita  2.198064e+04          3067   \n",
              "5565  RIO GRANDE DO SUL        Machadinho  5.715017e+04          5623   \n",
              "\n",
              "      PIB_percapita  \n",
              "0       3140.239990  \n",
              "1      11430.969727  \n",
              "2      61790.589844  \n",
              "3      11567.209961  \n",
              "4       2653.750000  \n",
              "...             ...  \n",
              "5561   19269.679688  \n",
              "5562    9908.709961  \n",
              "5563   17949.970703  \n",
              "5564    7166.819824  \n",
              "5565   10163.639648  \n",
              "\n",
              "[5555 rows x 5 columns]"
            ],
            "text/html": [
              "\n",
              "  <div id=\"df-7aabc814-71b0-4869-afa6-7e7cf9eb911a\">\n",
              "    <div class=\"colab-df-container\">\n",
              "      <div>\n",
              "<style scoped>\n",
              "    .dataframe tbody tr th:only-of-type {\n",
              "        vertical-align: middle;\n",
              "    }\n",
              "\n",
              "    .dataframe tbody tr th {\n",
              "        vertical-align: top;\n",
              "    }\n",
              "\n",
              "    .dataframe thead th {\n",
              "        text-align: right;\n",
              "    }\n",
              "</style>\n",
              "<table border=\"1\" class=\"dataframe\">\n",
              "  <thead>\n",
              "    <tr style=\"text-align: right;\">\n",
              "      <th></th>\n",
              "      <th>UF</th>\n",
              "      <th>nome</th>\n",
              "      <th>PIB</th>\n",
              "      <th>Pop_est_2009</th>\n",
              "      <th>PIB_percapita</th>\n",
              "    </tr>\n",
              "  </thead>\n",
              "  <tbody>\n",
              "    <tr>\n",
              "      <th>0</th>\n",
              "      <td>BAHIA</td>\n",
              "      <td>Tremedal</td>\n",
              "      <td>5.788399e+04</td>\n",
              "      <td>18433</td>\n",
              "      <td>3140.239990</td>\n",
              "    </tr>\n",
              "    <tr>\n",
              "      <th>1</th>\n",
              "      <td>RIO GRANDE DO SUL</td>\n",
              "      <td>Turuçu</td>\n",
              "      <td>4.572388e+04</td>\n",
              "      <td>4000</td>\n",
              "      <td>11430.969727</td>\n",
              "    </tr>\n",
              "    <tr>\n",
              "      <th>2</th>\n",
              "      <td>ESPIRITO SANTO</td>\n",
              "      <td>Vitória</td>\n",
              "      <td>1.978263e+07</td>\n",
              "      <td>320156</td>\n",
              "      <td>61790.589844</td>\n",
              "    </tr>\n",
              "    <tr>\n",
              "      <th>3</th>\n",
              "      <td>MINAS GERAIS</td>\n",
              "      <td>Jacutinga</td>\n",
              "      <td>2.478160e+05</td>\n",
              "      <td>21424</td>\n",
              "      <td>11567.209961</td>\n",
              "    </tr>\n",
              "    <tr>\n",
              "      <th>4</th>\n",
              "      <td>PIAUÍ</td>\n",
              "      <td>Nazária</td>\n",
              "      <td>2.095138e+04</td>\n",
              "      <td>7895</td>\n",
              "      <td>2653.750000</td>\n",
              "    </tr>\n",
              "    <tr>\n",
              "      <th>...</th>\n",
              "      <td>...</td>\n",
              "      <td>...</td>\n",
              "      <td>...</td>\n",
              "      <td>...</td>\n",
              "      <td>...</td>\n",
              "    </tr>\n",
              "    <tr>\n",
              "      <th>5561</th>\n",
              "      <td>SANTA CATARINA</td>\n",
              "      <td>Campo Erê</td>\n",
              "      <td>1.876289e+05</td>\n",
              "      <td>9737</td>\n",
              "      <td>19269.679688</td>\n",
              "    </tr>\n",
              "    <tr>\n",
              "      <th>5562</th>\n",
              "      <td>PARANÁ</td>\n",
              "      <td>Planalto</td>\n",
              "      <td>1.385535e+05</td>\n",
              "      <td>13983</td>\n",
              "      <td>9908.709961</td>\n",
              "    </tr>\n",
              "    <tr>\n",
              "      <th>5563</th>\n",
              "      <td>SÃO PAULO</td>\n",
              "      <td>Guararapes</td>\n",
              "      <td>5.320191e+05</td>\n",
              "      <td>29639</td>\n",
              "      <td>17949.970703</td>\n",
              "    </tr>\n",
              "    <tr>\n",
              "      <th>5564</th>\n",
              "      <td>RIO GRANDE DO SUL</td>\n",
              "      <td>Barra do Guarita</td>\n",
              "      <td>2.198064e+04</td>\n",
              "      <td>3067</td>\n",
              "      <td>7166.819824</td>\n",
              "    </tr>\n",
              "    <tr>\n",
              "      <th>5565</th>\n",
              "      <td>RIO GRANDE DO SUL</td>\n",
              "      <td>Machadinho</td>\n",
              "      <td>5.715017e+04</td>\n",
              "      <td>5623</td>\n",
              "      <td>10163.639648</td>\n",
              "    </tr>\n",
              "  </tbody>\n",
              "</table>\n",
              "<p>5555 rows × 5 columns</p>\n",
              "</div>\n",
              "      <button class=\"colab-df-convert\" onclick=\"convertToInteractive('df-7aabc814-71b0-4869-afa6-7e7cf9eb911a')\"\n",
              "              title=\"Convert this dataframe to an interactive table.\"\n",
              "              style=\"display:none;\">\n",
              "        \n",
              "  <svg xmlns=\"http://www.w3.org/2000/svg\" height=\"24px\"viewBox=\"0 0 24 24\"\n",
              "       width=\"24px\">\n",
              "    <path d=\"M0 0h24v24H0V0z\" fill=\"none\"/>\n",
              "    <path d=\"M18.56 5.44l.94 2.06.94-2.06 2.06-.94-2.06-.94-.94-2.06-.94 2.06-2.06.94zm-11 1L8.5 8.5l.94-2.06 2.06-.94-2.06-.94L8.5 2.5l-.94 2.06-2.06.94zm10 10l.94 2.06.94-2.06 2.06-.94-2.06-.94-.94-2.06-.94 2.06-2.06.94z\"/><path d=\"M17.41 7.96l-1.37-1.37c-.4-.4-.92-.59-1.43-.59-.52 0-1.04.2-1.43.59L10.3 9.45l-7.72 7.72c-.78.78-.78 2.05 0 2.83L4 21.41c.39.39.9.59 1.41.59.51 0 1.02-.2 1.41-.59l7.78-7.78 2.81-2.81c.8-.78.8-2.07 0-2.86zM5.41 20L4 18.59l7.72-7.72 1.47 1.35L5.41 20z\"/>\n",
              "  </svg>\n",
              "      </button>\n",
              "      \n",
              "  <style>\n",
              "    .colab-df-container {\n",
              "      display:flex;\n",
              "      flex-wrap:wrap;\n",
              "      gap: 12px;\n",
              "    }\n",
              "\n",
              "    .colab-df-convert {\n",
              "      background-color: #E8F0FE;\n",
              "      border: none;\n",
              "      border-radius: 50%;\n",
              "      cursor: pointer;\n",
              "      display: none;\n",
              "      fill: #1967D2;\n",
              "      height: 32px;\n",
              "      padding: 0 0 0 0;\n",
              "      width: 32px;\n",
              "    }\n",
              "\n",
              "    .colab-df-convert:hover {\n",
              "      background-color: #E2EBFA;\n",
              "      box-shadow: 0px 1px 2px rgba(60, 64, 67, 0.3), 0px 1px 3px 1px rgba(60, 64, 67, 0.15);\n",
              "      fill: #174EA6;\n",
              "    }\n",
              "\n",
              "    [theme=dark] .colab-df-convert {\n",
              "      background-color: #3B4455;\n",
              "      fill: #D2E3FC;\n",
              "    }\n",
              "\n",
              "    [theme=dark] .colab-df-convert:hover {\n",
              "      background-color: #434B5C;\n",
              "      box-shadow: 0px 1px 3px 1px rgba(0, 0, 0, 0.15);\n",
              "      filter: drop-shadow(0px 1px 2px rgba(0, 0, 0, 0.3));\n",
              "      fill: #FFFFFF;\n",
              "    }\n",
              "  </style>\n",
              "\n",
              "      <script>\n",
              "        const buttonEl =\n",
              "          document.querySelector('#df-7aabc814-71b0-4869-afa6-7e7cf9eb911a button.colab-df-convert');\n",
              "        buttonEl.style.display =\n",
              "          google.colab.kernel.accessAllowed ? 'block' : 'none';\n",
              "\n",
              "        async function convertToInteractive(key) {\n",
              "          const element = document.querySelector('#df-7aabc814-71b0-4869-afa6-7e7cf9eb911a');\n",
              "          const dataTable =\n",
              "            await google.colab.kernel.invokeFunction('convertToInteractive',\n",
              "                                                     [key], {});\n",
              "          if (!dataTable) return;\n",
              "\n",
              "          const docLinkHtml = 'Like what you see? Visit the ' +\n",
              "            '<a target=\"_blank\" href=https://colab.research.google.com/notebooks/data_table.ipynb>data table notebook</a>'\n",
              "            + ' to learn more about interactive tables.';\n",
              "          element.innerHTML = '';\n",
              "          dataTable['output_type'] = 'display_data';\n",
              "          await google.colab.output.renderOutput(dataTable, element);\n",
              "          const docLink = document.createElement('div');\n",
              "          docLink.innerHTML = docLinkHtml;\n",
              "          element.appendChild(docLink);\n",
              "        }\n",
              "      </script>\n",
              "    </div>\n",
              "  </div>\n",
              "  "
            ]
          },
          "metadata": {},
          "execution_count": 8
        }
      ]
    },
    {
      "cell_type": "code",
      "source": [
        "# escrever o conteudo extraido no arquivo cidades-limpo.csv separados por ;\n",
        "\n",
        "# escrevendo com with open()\n",
        "NOME_ARQUIVO_DESTINO = 'cidades-limpo.csv'\n",
        "with open(NOME_ARQUIVO_DESTINO, 'w',encoding='utf8') as fp:\n",
        "  write = csv.writer(fp)\n",
        "  write.writerow(['estado','cidade','populacao','pib','pib_percapita'])\n",
        "  # write.writerow(fonte.columns) -> forma diferente de escrever as colunas do df\n",
        "  write.writerows(fonte.values.tolist())"
      ],
      "metadata": {
        "id": "KiKNxaP0oTWo"
      },
      "execution_count": 9,
      "outputs": []
    },
    {
      "cell_type": "code",
      "metadata": {
        "id": "GcAWBfwhYq96"
      },
      "source": [
        "# EXTRA: escrevendo sem with open()\n",
        "# fonte.to_csv('cidades-limpo.csv',index=False)"
      ],
      "execution_count": 10,
      "outputs": []
    },
    {
      "cell_type": "markdown",
      "metadata": {
        "id": "EBzoHVD8b_c7"
      },
      "source": [
        "### **1.3. Brasil**"
      ]
    },
    {
      "cell_type": "markdown",
      "metadata": {
        "id": "Ft6l5bDwb_c7"
      },
      "source": [
        "Utilize o pacote Python `pandas` para combinar os dados do arquivo `estados-limpo.csv` com os dados do arquivo `cidades-limpo.csv` em um único dataframe. Escolha a coluna e o método de combinação de tal forma que **não haja perda de dados** no processo (não produzirá valores nulos `NaN`). Salve os dados do dataframe no arquivo `brasil.csv`"
      ]
    },
    {
      "cell_type": "code",
      "metadata": {
        "id": "Vz3J7G4-dBXa"
      },
      "source": [
        "# solução do exercício 1.3\n",
        "estados_df = pd.read_csv('estados-limpo.csv')\n",
        "cidades_df = pd.read_csv('cidades-limpo.csv')"
      ],
      "execution_count": 11,
      "outputs": []
    },
    {
      "cell_type": "code",
      "source": [
        "# verifiquei que as linhas, na junção dos dfs em df_completo, tinham sido diminuidas em relacao a quantidade\n",
        "# de linhas em cidades-limpo.csv.\n",
        "# ao verificar algumas linhas dos dois csv's separados, reparei que os Estados\n",
        "# estavam escritos de formas diferentes entre eles\n",
        "\n",
        "brasil_df = pd.merge(left=estados_df, right=cidades_df, on='estado', how='inner')\n",
        "brasil_df.shape"
      ],
      "metadata": {
        "colab": {
          "base_uri": "https://localhost:8080/"
        },
        "id": "HExCopgWw2kH",
        "outputId": "0bee37a2-b56b-4d27-d260-b9aa6dc345c4"
      },
      "execution_count": 12,
      "outputs": [
        {
          "output_type": "execute_result",
          "data": {
            "text/plain": [
              "(3210, 7)"
            ]
          },
          "metadata": {},
          "execution_count": 12
        }
      ]
    },
    {
      "cell_type": "code",
      "source": [
        "# verificando como os Estados estão escritos em cidades_limpo.csv\n",
        "lista_estados = cidades_df['estado'].tolist()\n",
        "lista_estados = list(set(lista_estados))\n",
        "for i in lista_estados:\n",
        "  print(i)"
      ],
      "metadata": {
        "colab": {
          "base_uri": "https://localhost:8080/"
        },
        "id": "bCPF6YSa0R_2",
        "outputId": "61849257-558b-41c5-949c-2c691dff9a5a"
      },
      "execution_count": 13,
      "outputs": [
        {
          "output_type": "stream",
          "name": "stdout",
          "text": [
            "RIO GRANDE DO SUL\n",
            "PARAÍBA\n",
            "ESPIRITO SANTO\n",
            "ALAGOAS\n",
            "AMAPÁ\n",
            "BAHIA\n",
            "RIO DE JANEIRO\n",
            "PARANÁ\n",
            "DISTRITO FEDERAL\n",
            "MATO GROSSO DO SUL\n",
            "GOIÁS\n",
            "SANTA CATARINA\n",
            "RIO GRANDE DO NORTE\n",
            "SERGIPE\n",
            "RONDÔNIA\n",
            "PARÁ\n",
            "MATO GROSSO\n",
            "PERNAMBUCO\n",
            "SÃO PAULO\n",
            "ACRE\n",
            "AMAZONAS\n",
            "RORAIMA\n",
            "MARANHÃO\n",
            "TOCANTINS\n",
            "CEARÁ\n",
            "MINAS GERAIS\n",
            "PIAUÍ\n"
          ]
        }
      ]
    },
    {
      "cell_type": "code",
      "source": [
        "# limpando as palavras acentuadas com um dict e o metodo translate()\n",
        "substituicoes= {\n",
        "    'Á': 'A',\n",
        "    'Ã': 'A',\n",
        "    'Í': 'I',\n",
        "    'Ô': 'O',\n",
        "}\n",
        "\n",
        "cidades_df['estado'] = cidades_df['estado'].apply(lambda x: x.translate(str.maketrans(substituicoes)))\n",
        "cidades_df['estado']"
      ],
      "metadata": {
        "colab": {
          "base_uri": "https://localhost:8080/"
        },
        "id": "qDMJVdqaybWR",
        "outputId": "4ce145d5-6ca0-408e-9a53-0894ae29cba5"
      },
      "execution_count": 14,
      "outputs": [
        {
          "output_type": "execute_result",
          "data": {
            "text/plain": [
              "0                   BAHIA\n",
              "1       RIO GRANDE DO SUL\n",
              "2          ESPIRITO SANTO\n",
              "3            MINAS GERAIS\n",
              "4                   PIAUI\n",
              "              ...        \n",
              "5550       SANTA CATARINA\n",
              "5551               PARANA\n",
              "5552            SAO PAULO\n",
              "5553    RIO GRANDE DO SUL\n",
              "5554    RIO GRANDE DO SUL\n",
              "Name: estado, Length: 5555, dtype: object"
            ]
          },
          "metadata": {},
          "execution_count": 14
        }
      ]
    },
    {
      "cell_type": "code",
      "source": [
        "# ao criar o brasil_df dessa vez, é visto que as linhas do df totais são de 5555, confirmando\n",
        "# que agora todos os dados estão corrigidos e iguais entre os dfs cidades-limpo e estados-limpo\n",
        "\n",
        "brasil_df = pd.merge(left=estados_df, right=cidades_df, on='estado', how='inner')\n",
        "brasil_df.info()"
      ],
      "metadata": {
        "colab": {
          "base_uri": "https://localhost:8080/"
        },
        "id": "sQWTqyAN6rPA",
        "outputId": "8e5ee88d-f0b9-4135-b3c8-cf26b20bba18"
      },
      "execution_count": 15,
      "outputs": [
        {
          "output_type": "stream",
          "name": "stdout",
          "text": [
            "<class 'pandas.core.frame.DataFrame'>\n",
            "Int64Index: 5555 entries, 0 to 5554\n",
            "Data columns (total 7 columns):\n",
            " #   Column         Non-Null Count  Dtype  \n",
            "---  ------         --------------  -----  \n",
            " 0   estado         5555 non-null   object \n",
            " 1   sigla          5555 non-null   object \n",
            " 2   regiao         5555 non-null   object \n",
            " 3   cidade         5555 non-null   object \n",
            " 4   populacao      5555 non-null   float64\n",
            " 5   pib            5555 non-null   int64  \n",
            " 6   pib_percapita  5555 non-null   float64\n",
            "dtypes: float64(2), int64(1), object(4)\n",
            "memory usage: 347.2+ KB\n"
          ]
        }
      ]
    },
    {
      "cell_type": "code",
      "source": [
        "# por fim, verificando se há dados null\n",
        "brasil_df.isnull().any()"
      ],
      "metadata": {
        "colab": {
          "base_uri": "https://localhost:8080/"
        },
        "id": "HIWiMbtQyJvk",
        "outputId": "2c7c031a-f559-4f34-c687-02e54527ae5b"
      },
      "execution_count": 16,
      "outputs": [
        {
          "output_type": "execute_result",
          "data": {
            "text/plain": [
              "estado           False\n",
              "sigla            False\n",
              "regiao           False\n",
              "cidade           False\n",
              "populacao        False\n",
              "pib              False\n",
              "pib_percapita    False\n",
              "dtype: bool"
            ]
          },
          "metadata": {},
          "execution_count": 16
        }
      ]
    },
    {
      "cell_type": "code",
      "source": [
        "# escrevendo o brasil.csv com o método to_csv\n",
        "brasil_df.to_csv('brasil.csv', index=False)"
      ],
      "metadata": {
        "id": "3hyhMC7uyxiH"
      },
      "execution_count": 17,
      "outputs": []
    },
    {
      "cell_type": "markdown",
      "metadata": {
        "id": "waxn4B2UDHyl"
      },
      "source": [
        "---"
      ]
    },
    {
      "cell_type": "markdown",
      "metadata": {
        "id": "finLQoyyGVmk"
      },
      "source": [
        "## 2\\. Data Analytics"
      ]
    },
    {
      "cell_type": "markdown",
      "metadata": {
        "id": "Ab0GW19Ed1ig"
      },
      "source": [
        "### **2.1. DataFrame**"
      ]
    },
    {
      "cell_type": "markdown",
      "metadata": {
        "id": "l8jJYjeBdijt"
      },
      "source": [
        "Utilize o pacote Python `pandas` para carregar o arquivo `brasil.csv` no dataframe `brasil_df`."
      ]
    },
    {
      "cell_type": "code",
      "metadata": {
        "id": "8kFQLlqud4QL",
        "colab": {
          "base_uri": "https://localhost:8080/",
          "height": 423
        },
        "outputId": "f48b6409-d28f-4022-c300-50d357275e45"
      },
      "source": [
        "# solução do exercício 2.1\n",
        "import pandas as pd\n",
        "\n",
        "brasil_df = pd.read_csv('brasil.csv')\n",
        "brasil_df"
      ],
      "execution_count": 18,
      "outputs": [
        {
          "output_type": "execute_result",
          "data": {
            "text/plain": [
              "            estado sigla   regiao                   cidade     populacao  \\\n",
              "0             ACRE    AC    NORTE     Marechal Thaumaturgo  1.091819e+05   \n",
              "1             ACRE    AC    NORTE         Senador Guiomard  2.171539e+05   \n",
              "2             ACRE    AC    NORTE             Assis Brasil  4.834730e+04   \n",
              "3             ACRE    AC    NORTE           Epitaciolândia  1.296411e+05   \n",
              "4             ACRE    AC    NORTE            Manoel Urbano  6.147873e+04   \n",
              "...            ...   ...      ...                      ...           ...   \n",
              "5550  MINAS GERAIS    MG  SUDESTE             Nacip Raydan  1.600776e+04   \n",
              "5551  MINAS GERAIS    MG  SUDESTE               Nova Ponte  4.681494e+05   \n",
              "5552  MINAS GERAIS    MG  SUDESTE   São Gonçalo do Sapucaí  2.886858e+05   \n",
              "5553  MINAS GERAIS    MG  SUDESTE                Barbacena  1.335420e+06   \n",
              "5554  MINAS GERAIS    MG  SUDESTE  São Francisco do Glória  3.237613e+04   \n",
              "\n",
              "         pib  pib_percapita  \n",
              "0      14275    7648.470215  \n",
              "1      19697   11024.719727  \n",
              "2       5662    8538.910156  \n",
              "3      14224    9114.250000  \n",
              "4       7505    8191.700195  \n",
              "...      ...            ...  \n",
              "5550    3015    5309.370117  \n",
              "5551   12504   37439.968750  \n",
              "5552   23627   12218.469727  \n",
              "5553  128572   10386.549805  \n",
              "5554    5685    5695.009766  \n",
              "\n",
              "[5555 rows x 7 columns]"
            ],
            "text/html": [
              "\n",
              "  <div id=\"df-a6d09db8-f2da-472f-ac87-ee81b3c2679a\">\n",
              "    <div class=\"colab-df-container\">\n",
              "      <div>\n",
              "<style scoped>\n",
              "    .dataframe tbody tr th:only-of-type {\n",
              "        vertical-align: middle;\n",
              "    }\n",
              "\n",
              "    .dataframe tbody tr th {\n",
              "        vertical-align: top;\n",
              "    }\n",
              "\n",
              "    .dataframe thead th {\n",
              "        text-align: right;\n",
              "    }\n",
              "</style>\n",
              "<table border=\"1\" class=\"dataframe\">\n",
              "  <thead>\n",
              "    <tr style=\"text-align: right;\">\n",
              "      <th></th>\n",
              "      <th>estado</th>\n",
              "      <th>sigla</th>\n",
              "      <th>regiao</th>\n",
              "      <th>cidade</th>\n",
              "      <th>populacao</th>\n",
              "      <th>pib</th>\n",
              "      <th>pib_percapita</th>\n",
              "    </tr>\n",
              "  </thead>\n",
              "  <tbody>\n",
              "    <tr>\n",
              "      <th>0</th>\n",
              "      <td>ACRE</td>\n",
              "      <td>AC</td>\n",
              "      <td>NORTE</td>\n",
              "      <td>Marechal Thaumaturgo</td>\n",
              "      <td>1.091819e+05</td>\n",
              "      <td>14275</td>\n",
              "      <td>7648.470215</td>\n",
              "    </tr>\n",
              "    <tr>\n",
              "      <th>1</th>\n",
              "      <td>ACRE</td>\n",
              "      <td>AC</td>\n",
              "      <td>NORTE</td>\n",
              "      <td>Senador Guiomard</td>\n",
              "      <td>2.171539e+05</td>\n",
              "      <td>19697</td>\n",
              "      <td>11024.719727</td>\n",
              "    </tr>\n",
              "    <tr>\n",
              "      <th>2</th>\n",
              "      <td>ACRE</td>\n",
              "      <td>AC</td>\n",
              "      <td>NORTE</td>\n",
              "      <td>Assis Brasil</td>\n",
              "      <td>4.834730e+04</td>\n",
              "      <td>5662</td>\n",
              "      <td>8538.910156</td>\n",
              "    </tr>\n",
              "    <tr>\n",
              "      <th>3</th>\n",
              "      <td>ACRE</td>\n",
              "      <td>AC</td>\n",
              "      <td>NORTE</td>\n",
              "      <td>Epitaciolândia</td>\n",
              "      <td>1.296411e+05</td>\n",
              "      <td>14224</td>\n",
              "      <td>9114.250000</td>\n",
              "    </tr>\n",
              "    <tr>\n",
              "      <th>4</th>\n",
              "      <td>ACRE</td>\n",
              "      <td>AC</td>\n",
              "      <td>NORTE</td>\n",
              "      <td>Manoel Urbano</td>\n",
              "      <td>6.147873e+04</td>\n",
              "      <td>7505</td>\n",
              "      <td>8191.700195</td>\n",
              "    </tr>\n",
              "    <tr>\n",
              "      <th>...</th>\n",
              "      <td>...</td>\n",
              "      <td>...</td>\n",
              "      <td>...</td>\n",
              "      <td>...</td>\n",
              "      <td>...</td>\n",
              "      <td>...</td>\n",
              "      <td>...</td>\n",
              "    </tr>\n",
              "    <tr>\n",
              "      <th>5550</th>\n",
              "      <td>MINAS GERAIS</td>\n",
              "      <td>MG</td>\n",
              "      <td>SUDESTE</td>\n",
              "      <td>Nacip Raydan</td>\n",
              "      <td>1.600776e+04</td>\n",
              "      <td>3015</td>\n",
              "      <td>5309.370117</td>\n",
              "    </tr>\n",
              "    <tr>\n",
              "      <th>5551</th>\n",
              "      <td>MINAS GERAIS</td>\n",
              "      <td>MG</td>\n",
              "      <td>SUDESTE</td>\n",
              "      <td>Nova Ponte</td>\n",
              "      <td>4.681494e+05</td>\n",
              "      <td>12504</td>\n",
              "      <td>37439.968750</td>\n",
              "    </tr>\n",
              "    <tr>\n",
              "      <th>5552</th>\n",
              "      <td>MINAS GERAIS</td>\n",
              "      <td>MG</td>\n",
              "      <td>SUDESTE</td>\n",
              "      <td>São Gonçalo do Sapucaí</td>\n",
              "      <td>2.886858e+05</td>\n",
              "      <td>23627</td>\n",
              "      <td>12218.469727</td>\n",
              "    </tr>\n",
              "    <tr>\n",
              "      <th>5553</th>\n",
              "      <td>MINAS GERAIS</td>\n",
              "      <td>MG</td>\n",
              "      <td>SUDESTE</td>\n",
              "      <td>Barbacena</td>\n",
              "      <td>1.335420e+06</td>\n",
              "      <td>128572</td>\n",
              "      <td>10386.549805</td>\n",
              "    </tr>\n",
              "    <tr>\n",
              "      <th>5554</th>\n",
              "      <td>MINAS GERAIS</td>\n",
              "      <td>MG</td>\n",
              "      <td>SUDESTE</td>\n",
              "      <td>São Francisco do Glória</td>\n",
              "      <td>3.237613e+04</td>\n",
              "      <td>5685</td>\n",
              "      <td>5695.009766</td>\n",
              "    </tr>\n",
              "  </tbody>\n",
              "</table>\n",
              "<p>5555 rows × 7 columns</p>\n",
              "</div>\n",
              "      <button class=\"colab-df-convert\" onclick=\"convertToInteractive('df-a6d09db8-f2da-472f-ac87-ee81b3c2679a')\"\n",
              "              title=\"Convert this dataframe to an interactive table.\"\n",
              "              style=\"display:none;\">\n",
              "        \n",
              "  <svg xmlns=\"http://www.w3.org/2000/svg\" height=\"24px\"viewBox=\"0 0 24 24\"\n",
              "       width=\"24px\">\n",
              "    <path d=\"M0 0h24v24H0V0z\" fill=\"none\"/>\n",
              "    <path d=\"M18.56 5.44l.94 2.06.94-2.06 2.06-.94-2.06-.94-.94-2.06-.94 2.06-2.06.94zm-11 1L8.5 8.5l.94-2.06 2.06-.94-2.06-.94L8.5 2.5l-.94 2.06-2.06.94zm10 10l.94 2.06.94-2.06 2.06-.94-2.06-.94-.94-2.06-.94 2.06-2.06.94z\"/><path d=\"M17.41 7.96l-1.37-1.37c-.4-.4-.92-.59-1.43-.59-.52 0-1.04.2-1.43.59L10.3 9.45l-7.72 7.72c-.78.78-.78 2.05 0 2.83L4 21.41c.39.39.9.59 1.41.59.51 0 1.02-.2 1.41-.59l7.78-7.78 2.81-2.81c.8-.78.8-2.07 0-2.86zM5.41 20L4 18.59l7.72-7.72 1.47 1.35L5.41 20z\"/>\n",
              "  </svg>\n",
              "      </button>\n",
              "      \n",
              "  <style>\n",
              "    .colab-df-container {\n",
              "      display:flex;\n",
              "      flex-wrap:wrap;\n",
              "      gap: 12px;\n",
              "    }\n",
              "\n",
              "    .colab-df-convert {\n",
              "      background-color: #E8F0FE;\n",
              "      border: none;\n",
              "      border-radius: 50%;\n",
              "      cursor: pointer;\n",
              "      display: none;\n",
              "      fill: #1967D2;\n",
              "      height: 32px;\n",
              "      padding: 0 0 0 0;\n",
              "      width: 32px;\n",
              "    }\n",
              "\n",
              "    .colab-df-convert:hover {\n",
              "      background-color: #E2EBFA;\n",
              "      box-shadow: 0px 1px 2px rgba(60, 64, 67, 0.3), 0px 1px 3px 1px rgba(60, 64, 67, 0.15);\n",
              "      fill: #174EA6;\n",
              "    }\n",
              "\n",
              "    [theme=dark] .colab-df-convert {\n",
              "      background-color: #3B4455;\n",
              "      fill: #D2E3FC;\n",
              "    }\n",
              "\n",
              "    [theme=dark] .colab-df-convert:hover {\n",
              "      background-color: #434B5C;\n",
              "      box-shadow: 0px 1px 3px 1px rgba(0, 0, 0, 0.15);\n",
              "      filter: drop-shadow(0px 1px 2px rgba(0, 0, 0, 0.3));\n",
              "      fill: #FFFFFF;\n",
              "    }\n",
              "  </style>\n",
              "\n",
              "      <script>\n",
              "        const buttonEl =\n",
              "          document.querySelector('#df-a6d09db8-f2da-472f-ac87-ee81b3c2679a button.colab-df-convert');\n",
              "        buttonEl.style.display =\n",
              "          google.colab.kernel.accessAllowed ? 'block' : 'none';\n",
              "\n",
              "        async function convertToInteractive(key) {\n",
              "          const element = document.querySelector('#df-a6d09db8-f2da-472f-ac87-ee81b3c2679a');\n",
              "          const dataTable =\n",
              "            await google.colab.kernel.invokeFunction('convertToInteractive',\n",
              "                                                     [key], {});\n",
              "          if (!dataTable) return;\n",
              "\n",
              "          const docLinkHtml = 'Like what you see? Visit the ' +\n",
              "            '<a target=\"_blank\" href=https://colab.research.google.com/notebooks/data_table.ipynb>data table notebook</a>'\n",
              "            + ' to learn more about interactive tables.';\n",
              "          element.innerHTML = '';\n",
              "          dataTable['output_type'] = 'display_data';\n",
              "          await google.colab.output.renderOutput(dataTable, element);\n",
              "          const docLink = document.createElement('div');\n",
              "          docLink.innerHTML = docLinkHtml;\n",
              "          element.appendChild(docLink);\n",
              "        }\n",
              "      </script>\n",
              "    </div>\n",
              "  </div>\n",
              "  "
            ]
          },
          "metadata": {},
          "execution_count": 18
        }
      ]
    },
    {
      "cell_type": "markdown",
      "metadata": {
        "id": "ZFWvK8FXHuex"
      },
      "source": [
        "### **2.2. Analise**"
      ]
    },
    {
      "cell_type": "markdown",
      "metadata": {
        "id": "EGyz0R1dd62D"
      },
      "source": [
        "Utilize o dataframe `brasil_df` para responder as seguintes perguntas de negócio:"
      ]
    },
    {
      "cell_type": "markdown",
      "metadata": {
        "id": "lGnYVp7IeFBD"
      },
      "source": [
        " - Quais são as 10 cidades mais populosas do Brasil?"
      ]
    },
    {
      "cell_type": "code",
      "metadata": {
        "id": "KQKcD-VkeQYf",
        "colab": {
          "base_uri": "https://localhost:8080/",
          "height": 363
        },
        "outputId": "9b8477f0-97fe-480d-c9a8-9a27c420ad8e"
      },
      "source": [
        "# código para responder a pergunta\n",
        "brasil_df.sort_values(by='populacao', ascending=False).head(10)[['sigla','regiao','cidade','populacao']]"
      ],
      "execution_count": 19,
      "outputs": [
        {
          "output_type": "execute_result",
          "data": {
            "text/plain": [
              "     sigla        regiao          cidade    populacao\n",
              "4403    SP       SUDESTE       São Paulo  389317152.0\n",
              "2747    RJ       SUDESTE  Rio de Janeiro  175739344.0\n",
              "802     DF  CENTRO-OESTE        Brasília  131487264.0\n",
              "2056    PR           SUL        Curitiba   45762420.0\n",
              "5447    MG       SUDESTE  Belo Horizonte   44595204.0\n",
              "142     AM         NORTE          Manaus   40486108.0\n",
              "3074    RS           SUL    Porto Alegre   37787912.0\n",
              "246     BA      NORDESTE        Salvador   32824228.0\n",
              "4355    SP       SUDESTE       Guarulhos   32473828.0\n",
              "766     CE      NORDESTE       Fortaleza   31789186.0"
            ],
            "text/html": [
              "\n",
              "  <div id=\"df-17a6124a-cc1f-4f6e-8e99-a5a4d4c7c512\">\n",
              "    <div class=\"colab-df-container\">\n",
              "      <div>\n",
              "<style scoped>\n",
              "    .dataframe tbody tr th:only-of-type {\n",
              "        vertical-align: middle;\n",
              "    }\n",
              "\n",
              "    .dataframe tbody tr th {\n",
              "        vertical-align: top;\n",
              "    }\n",
              "\n",
              "    .dataframe thead th {\n",
              "        text-align: right;\n",
              "    }\n",
              "</style>\n",
              "<table border=\"1\" class=\"dataframe\">\n",
              "  <thead>\n",
              "    <tr style=\"text-align: right;\">\n",
              "      <th></th>\n",
              "      <th>sigla</th>\n",
              "      <th>regiao</th>\n",
              "      <th>cidade</th>\n",
              "      <th>populacao</th>\n",
              "    </tr>\n",
              "  </thead>\n",
              "  <tbody>\n",
              "    <tr>\n",
              "      <th>4403</th>\n",
              "      <td>SP</td>\n",
              "      <td>SUDESTE</td>\n",
              "      <td>São Paulo</td>\n",
              "      <td>389317152.0</td>\n",
              "    </tr>\n",
              "    <tr>\n",
              "      <th>2747</th>\n",
              "      <td>RJ</td>\n",
              "      <td>SUDESTE</td>\n",
              "      <td>Rio de Janeiro</td>\n",
              "      <td>175739344.0</td>\n",
              "    </tr>\n",
              "    <tr>\n",
              "      <th>802</th>\n",
              "      <td>DF</td>\n",
              "      <td>CENTRO-OESTE</td>\n",
              "      <td>Brasília</td>\n",
              "      <td>131487264.0</td>\n",
              "    </tr>\n",
              "    <tr>\n",
              "      <th>2056</th>\n",
              "      <td>PR</td>\n",
              "      <td>SUL</td>\n",
              "      <td>Curitiba</td>\n",
              "      <td>45762420.0</td>\n",
              "    </tr>\n",
              "    <tr>\n",
              "      <th>5447</th>\n",
              "      <td>MG</td>\n",
              "      <td>SUDESTE</td>\n",
              "      <td>Belo Horizonte</td>\n",
              "      <td>44595204.0</td>\n",
              "    </tr>\n",
              "    <tr>\n",
              "      <th>142</th>\n",
              "      <td>AM</td>\n",
              "      <td>NORTE</td>\n",
              "      <td>Manaus</td>\n",
              "      <td>40486108.0</td>\n",
              "    </tr>\n",
              "    <tr>\n",
              "      <th>3074</th>\n",
              "      <td>RS</td>\n",
              "      <td>SUL</td>\n",
              "      <td>Porto Alegre</td>\n",
              "      <td>37787912.0</td>\n",
              "    </tr>\n",
              "    <tr>\n",
              "      <th>246</th>\n",
              "      <td>BA</td>\n",
              "      <td>NORDESTE</td>\n",
              "      <td>Salvador</td>\n",
              "      <td>32824228.0</td>\n",
              "    </tr>\n",
              "    <tr>\n",
              "      <th>4355</th>\n",
              "      <td>SP</td>\n",
              "      <td>SUDESTE</td>\n",
              "      <td>Guarulhos</td>\n",
              "      <td>32473828.0</td>\n",
              "    </tr>\n",
              "    <tr>\n",
              "      <th>766</th>\n",
              "      <td>CE</td>\n",
              "      <td>NORDESTE</td>\n",
              "      <td>Fortaleza</td>\n",
              "      <td>31789186.0</td>\n",
              "    </tr>\n",
              "  </tbody>\n",
              "</table>\n",
              "</div>\n",
              "      <button class=\"colab-df-convert\" onclick=\"convertToInteractive('df-17a6124a-cc1f-4f6e-8e99-a5a4d4c7c512')\"\n",
              "              title=\"Convert this dataframe to an interactive table.\"\n",
              "              style=\"display:none;\">\n",
              "        \n",
              "  <svg xmlns=\"http://www.w3.org/2000/svg\" height=\"24px\"viewBox=\"0 0 24 24\"\n",
              "       width=\"24px\">\n",
              "    <path d=\"M0 0h24v24H0V0z\" fill=\"none\"/>\n",
              "    <path d=\"M18.56 5.44l.94 2.06.94-2.06 2.06-.94-2.06-.94-.94-2.06-.94 2.06-2.06.94zm-11 1L8.5 8.5l.94-2.06 2.06-.94-2.06-.94L8.5 2.5l-.94 2.06-2.06.94zm10 10l.94 2.06.94-2.06 2.06-.94-2.06-.94-.94-2.06-.94 2.06-2.06.94z\"/><path d=\"M17.41 7.96l-1.37-1.37c-.4-.4-.92-.59-1.43-.59-.52 0-1.04.2-1.43.59L10.3 9.45l-7.72 7.72c-.78.78-.78 2.05 0 2.83L4 21.41c.39.39.9.59 1.41.59.51 0 1.02-.2 1.41-.59l7.78-7.78 2.81-2.81c.8-.78.8-2.07 0-2.86zM5.41 20L4 18.59l7.72-7.72 1.47 1.35L5.41 20z\"/>\n",
              "  </svg>\n",
              "      </button>\n",
              "      \n",
              "  <style>\n",
              "    .colab-df-container {\n",
              "      display:flex;\n",
              "      flex-wrap:wrap;\n",
              "      gap: 12px;\n",
              "    }\n",
              "\n",
              "    .colab-df-convert {\n",
              "      background-color: #E8F0FE;\n",
              "      border: none;\n",
              "      border-radius: 50%;\n",
              "      cursor: pointer;\n",
              "      display: none;\n",
              "      fill: #1967D2;\n",
              "      height: 32px;\n",
              "      padding: 0 0 0 0;\n",
              "      width: 32px;\n",
              "    }\n",
              "\n",
              "    .colab-df-convert:hover {\n",
              "      background-color: #E2EBFA;\n",
              "      box-shadow: 0px 1px 2px rgba(60, 64, 67, 0.3), 0px 1px 3px 1px rgba(60, 64, 67, 0.15);\n",
              "      fill: #174EA6;\n",
              "    }\n",
              "\n",
              "    [theme=dark] .colab-df-convert {\n",
              "      background-color: #3B4455;\n",
              "      fill: #D2E3FC;\n",
              "    }\n",
              "\n",
              "    [theme=dark] .colab-df-convert:hover {\n",
              "      background-color: #434B5C;\n",
              "      box-shadow: 0px 1px 3px 1px rgba(0, 0, 0, 0.15);\n",
              "      filter: drop-shadow(0px 1px 2px rgba(0, 0, 0, 0.3));\n",
              "      fill: #FFFFFF;\n",
              "    }\n",
              "  </style>\n",
              "\n",
              "      <script>\n",
              "        const buttonEl =\n",
              "          document.querySelector('#df-17a6124a-cc1f-4f6e-8e99-a5a4d4c7c512 button.colab-df-convert');\n",
              "        buttonEl.style.display =\n",
              "          google.colab.kernel.accessAllowed ? 'block' : 'none';\n",
              "\n",
              "        async function convertToInteractive(key) {\n",
              "          const element = document.querySelector('#df-17a6124a-cc1f-4f6e-8e99-a5a4d4c7c512');\n",
              "          const dataTable =\n",
              "            await google.colab.kernel.invokeFunction('convertToInteractive',\n",
              "                                                     [key], {});\n",
              "          if (!dataTable) return;\n",
              "\n",
              "          const docLinkHtml = 'Like what you see? Visit the ' +\n",
              "            '<a target=\"_blank\" href=https://colab.research.google.com/notebooks/data_table.ipynb>data table notebook</a>'\n",
              "            + ' to learn more about interactive tables.';\n",
              "          element.innerHTML = '';\n",
              "          dataTable['output_type'] = 'display_data';\n",
              "          await google.colab.output.renderOutput(dataTable, element);\n",
              "          const docLink = document.createElement('div');\n",
              "          docLink.innerHTML = docLinkHtml;\n",
              "          element.appendChild(docLink);\n",
              "        }\n",
              "      </script>\n",
              "    </div>\n",
              "  </div>\n",
              "  "
            ]
          },
          "metadata": {},
          "execution_count": 19
        }
      ]
    },
    {
      "cell_type": "markdown",
      "metadata": {
        "id": "l93St6uleWTp"
      },
      "source": [
        " - Quais são as 5 cidades com a menor PIB per capita da região nordeste?"
      ]
    },
    {
      "cell_type": "code",
      "metadata": {
        "id": "DS5akh2zeWTq",
        "colab": {
          "base_uri": "https://localhost:8080/",
          "height": 206
        },
        "outputId": "3ee84755-74b2-4e8a-998f-0753ec94ad15"
      },
      "source": [
        "# código para responder a pergunta\n",
        "brasil_df.loc[brasil_df['regiao'] == 'NORDESTE'].sort_values(by='pib_percapita').head(5)[['estado','regiao','cidade','pib_percapita']]"
      ],
      "execution_count": 20,
      "outputs": [
        {
          "output_type": "execute_result",
          "data": {
            "text/plain": [
              "        estado    regiao              cidade  pib_percapita\n",
              "1319  MARANHAO  NORDESTE  São Vicente Ferrer    1929.969971\n",
              "1214  MARANHAO  NORDESTE             Cajapió    2203.830078\n",
              "2512     PIAUI  NORDESTE       Dom Inocêncio    2358.239990\n",
              "1338  MARANHAO  NORDESTE            Timbiras    2368.159912\n",
              "1235  MARANHAO  NORDESTE               Axixá    2416.969971"
            ],
            "text/html": [
              "\n",
              "  <div id=\"df-f4a43d12-8a36-402c-add7-2a2686c3e60c\">\n",
              "    <div class=\"colab-df-container\">\n",
              "      <div>\n",
              "<style scoped>\n",
              "    .dataframe tbody tr th:only-of-type {\n",
              "        vertical-align: middle;\n",
              "    }\n",
              "\n",
              "    .dataframe tbody tr th {\n",
              "        vertical-align: top;\n",
              "    }\n",
              "\n",
              "    .dataframe thead th {\n",
              "        text-align: right;\n",
              "    }\n",
              "</style>\n",
              "<table border=\"1\" class=\"dataframe\">\n",
              "  <thead>\n",
              "    <tr style=\"text-align: right;\">\n",
              "      <th></th>\n",
              "      <th>estado</th>\n",
              "      <th>regiao</th>\n",
              "      <th>cidade</th>\n",
              "      <th>pib_percapita</th>\n",
              "    </tr>\n",
              "  </thead>\n",
              "  <tbody>\n",
              "    <tr>\n",
              "      <th>1319</th>\n",
              "      <td>MARANHAO</td>\n",
              "      <td>NORDESTE</td>\n",
              "      <td>São Vicente Ferrer</td>\n",
              "      <td>1929.969971</td>\n",
              "    </tr>\n",
              "    <tr>\n",
              "      <th>1214</th>\n",
              "      <td>MARANHAO</td>\n",
              "      <td>NORDESTE</td>\n",
              "      <td>Cajapió</td>\n",
              "      <td>2203.830078</td>\n",
              "    </tr>\n",
              "    <tr>\n",
              "      <th>2512</th>\n",
              "      <td>PIAUI</td>\n",
              "      <td>NORDESTE</td>\n",
              "      <td>Dom Inocêncio</td>\n",
              "      <td>2358.239990</td>\n",
              "    </tr>\n",
              "    <tr>\n",
              "      <th>1338</th>\n",
              "      <td>MARANHAO</td>\n",
              "      <td>NORDESTE</td>\n",
              "      <td>Timbiras</td>\n",
              "      <td>2368.159912</td>\n",
              "    </tr>\n",
              "    <tr>\n",
              "      <th>1235</th>\n",
              "      <td>MARANHAO</td>\n",
              "      <td>NORDESTE</td>\n",
              "      <td>Axixá</td>\n",
              "      <td>2416.969971</td>\n",
              "    </tr>\n",
              "  </tbody>\n",
              "</table>\n",
              "</div>\n",
              "      <button class=\"colab-df-convert\" onclick=\"convertToInteractive('df-f4a43d12-8a36-402c-add7-2a2686c3e60c')\"\n",
              "              title=\"Convert this dataframe to an interactive table.\"\n",
              "              style=\"display:none;\">\n",
              "        \n",
              "  <svg xmlns=\"http://www.w3.org/2000/svg\" height=\"24px\"viewBox=\"0 0 24 24\"\n",
              "       width=\"24px\">\n",
              "    <path d=\"M0 0h24v24H0V0z\" fill=\"none\"/>\n",
              "    <path d=\"M18.56 5.44l.94 2.06.94-2.06 2.06-.94-2.06-.94-.94-2.06-.94 2.06-2.06.94zm-11 1L8.5 8.5l.94-2.06 2.06-.94-2.06-.94L8.5 2.5l-.94 2.06-2.06.94zm10 10l.94 2.06.94-2.06 2.06-.94-2.06-.94-.94-2.06-.94 2.06-2.06.94z\"/><path d=\"M17.41 7.96l-1.37-1.37c-.4-.4-.92-.59-1.43-.59-.52 0-1.04.2-1.43.59L10.3 9.45l-7.72 7.72c-.78.78-.78 2.05 0 2.83L4 21.41c.39.39.9.59 1.41.59.51 0 1.02-.2 1.41-.59l7.78-7.78 2.81-2.81c.8-.78.8-2.07 0-2.86zM5.41 20L4 18.59l7.72-7.72 1.47 1.35L5.41 20z\"/>\n",
              "  </svg>\n",
              "      </button>\n",
              "      \n",
              "  <style>\n",
              "    .colab-df-container {\n",
              "      display:flex;\n",
              "      flex-wrap:wrap;\n",
              "      gap: 12px;\n",
              "    }\n",
              "\n",
              "    .colab-df-convert {\n",
              "      background-color: #E8F0FE;\n",
              "      border: none;\n",
              "      border-radius: 50%;\n",
              "      cursor: pointer;\n",
              "      display: none;\n",
              "      fill: #1967D2;\n",
              "      height: 32px;\n",
              "      padding: 0 0 0 0;\n",
              "      width: 32px;\n",
              "    }\n",
              "\n",
              "    .colab-df-convert:hover {\n",
              "      background-color: #E2EBFA;\n",
              "      box-shadow: 0px 1px 2px rgba(60, 64, 67, 0.3), 0px 1px 3px 1px rgba(60, 64, 67, 0.15);\n",
              "      fill: #174EA6;\n",
              "    }\n",
              "\n",
              "    [theme=dark] .colab-df-convert {\n",
              "      background-color: #3B4455;\n",
              "      fill: #D2E3FC;\n",
              "    }\n",
              "\n",
              "    [theme=dark] .colab-df-convert:hover {\n",
              "      background-color: #434B5C;\n",
              "      box-shadow: 0px 1px 3px 1px rgba(0, 0, 0, 0.15);\n",
              "      filter: drop-shadow(0px 1px 2px rgba(0, 0, 0, 0.3));\n",
              "      fill: #FFFFFF;\n",
              "    }\n",
              "  </style>\n",
              "\n",
              "      <script>\n",
              "        const buttonEl =\n",
              "          document.querySelector('#df-f4a43d12-8a36-402c-add7-2a2686c3e60c button.colab-df-convert');\n",
              "        buttonEl.style.display =\n",
              "          google.colab.kernel.accessAllowed ? 'block' : 'none';\n",
              "\n",
              "        async function convertToInteractive(key) {\n",
              "          const element = document.querySelector('#df-f4a43d12-8a36-402c-add7-2a2686c3e60c');\n",
              "          const dataTable =\n",
              "            await google.colab.kernel.invokeFunction('convertToInteractive',\n",
              "                                                     [key], {});\n",
              "          if (!dataTable) return;\n",
              "\n",
              "          const docLinkHtml = 'Like what you see? Visit the ' +\n",
              "            '<a target=\"_blank\" href=https://colab.research.google.com/notebooks/data_table.ipynb>data table notebook</a>'\n",
              "            + ' to learn more about interactive tables.';\n",
              "          element.innerHTML = '';\n",
              "          dataTable['output_type'] = 'display_data';\n",
              "          await google.colab.output.renderOutput(dataTable, element);\n",
              "          const docLink = document.createElement('div');\n",
              "          docLink.innerHTML = docLinkHtml;\n",
              "          element.appendChild(docLink);\n",
              "        }\n",
              "      </script>\n",
              "    </div>\n",
              "  </div>\n",
              "  "
            ]
          },
          "metadata": {},
          "execution_count": 20
        }
      ]
    },
    {
      "cell_type": "markdown",
      "metadata": {
        "id": "GqwffgUmedmb"
      },
      "source": [
        " - Quais são as 15 cidades com maior PIB do do estado de São Paulo?"
      ]
    },
    {
      "cell_type": "code",
      "metadata": {
        "id": "tFKEn1gLedmc",
        "colab": {
          "base_uri": "https://localhost:8080/",
          "height": 519
        },
        "outputId": "ecd4937d-cf04-44bf-8330-03c44cf6b5ff"
      },
      "source": [
        "# código para responder a pergunta\n",
        "brasil_df.loc[brasil_df['estado'] == 'SAO PAULO'].sort_values(by='pib', ascending=False).head(15)[['sigla','cidade','pib']]"
      ],
      "execution_count": 21,
      "outputs": [
        {
          "output_type": "execute_result",
          "data": {
            "text/plain": [
              "     sigla                 cidade       pib\n",
              "4403    SP              São Paulo  11037593\n",
              "4355    SP              Guarulhos   1299283\n",
              "4472    SP               Campinas   1064669\n",
              "3942    SP  São Bernardo do Campo    810979\n",
              "4238    SP                 Osasco    718646\n",
              "3948    SP            Santo André    673396\n",
              "4126    SP    São José dos Campos    615871\n",
              "4284    SP               Sorocaba    584313\n",
              "3886    SP         Ribeirão Preto    563107\n",
              "3955    SP  São José do Rio Preto    419632\n",
              "3879    SP                   Mauá    417458\n",
              "3900    SP                 Santos    417098\n",
              "4170    SP                Diadema    397738\n",
              "4402    SP            Carapicuíba    392701\n",
              "4278    SP        Mogi das Cruzes    375268"
            ],
            "text/html": [
              "\n",
              "  <div id=\"df-569cfd7f-acce-40b7-98bf-67bdaae4bdf8\">\n",
              "    <div class=\"colab-df-container\">\n",
              "      <div>\n",
              "<style scoped>\n",
              "    .dataframe tbody tr th:only-of-type {\n",
              "        vertical-align: middle;\n",
              "    }\n",
              "\n",
              "    .dataframe tbody tr th {\n",
              "        vertical-align: top;\n",
              "    }\n",
              "\n",
              "    .dataframe thead th {\n",
              "        text-align: right;\n",
              "    }\n",
              "</style>\n",
              "<table border=\"1\" class=\"dataframe\">\n",
              "  <thead>\n",
              "    <tr style=\"text-align: right;\">\n",
              "      <th></th>\n",
              "      <th>sigla</th>\n",
              "      <th>cidade</th>\n",
              "      <th>pib</th>\n",
              "    </tr>\n",
              "  </thead>\n",
              "  <tbody>\n",
              "    <tr>\n",
              "      <th>4403</th>\n",
              "      <td>SP</td>\n",
              "      <td>São Paulo</td>\n",
              "      <td>11037593</td>\n",
              "    </tr>\n",
              "    <tr>\n",
              "      <th>4355</th>\n",
              "      <td>SP</td>\n",
              "      <td>Guarulhos</td>\n",
              "      <td>1299283</td>\n",
              "    </tr>\n",
              "    <tr>\n",
              "      <th>4472</th>\n",
              "      <td>SP</td>\n",
              "      <td>Campinas</td>\n",
              "      <td>1064669</td>\n",
              "    </tr>\n",
              "    <tr>\n",
              "      <th>3942</th>\n",
              "      <td>SP</td>\n",
              "      <td>São Bernardo do Campo</td>\n",
              "      <td>810979</td>\n",
              "    </tr>\n",
              "    <tr>\n",
              "      <th>4238</th>\n",
              "      <td>SP</td>\n",
              "      <td>Osasco</td>\n",
              "      <td>718646</td>\n",
              "    </tr>\n",
              "    <tr>\n",
              "      <th>3948</th>\n",
              "      <td>SP</td>\n",
              "      <td>Santo André</td>\n",
              "      <td>673396</td>\n",
              "    </tr>\n",
              "    <tr>\n",
              "      <th>4126</th>\n",
              "      <td>SP</td>\n",
              "      <td>São José dos Campos</td>\n",
              "      <td>615871</td>\n",
              "    </tr>\n",
              "    <tr>\n",
              "      <th>4284</th>\n",
              "      <td>SP</td>\n",
              "      <td>Sorocaba</td>\n",
              "      <td>584313</td>\n",
              "    </tr>\n",
              "    <tr>\n",
              "      <th>3886</th>\n",
              "      <td>SP</td>\n",
              "      <td>Ribeirão Preto</td>\n",
              "      <td>563107</td>\n",
              "    </tr>\n",
              "    <tr>\n",
              "      <th>3955</th>\n",
              "      <td>SP</td>\n",
              "      <td>São José do Rio Preto</td>\n",
              "      <td>419632</td>\n",
              "    </tr>\n",
              "    <tr>\n",
              "      <th>3879</th>\n",
              "      <td>SP</td>\n",
              "      <td>Mauá</td>\n",
              "      <td>417458</td>\n",
              "    </tr>\n",
              "    <tr>\n",
              "      <th>3900</th>\n",
              "      <td>SP</td>\n",
              "      <td>Santos</td>\n",
              "      <td>417098</td>\n",
              "    </tr>\n",
              "    <tr>\n",
              "      <th>4170</th>\n",
              "      <td>SP</td>\n",
              "      <td>Diadema</td>\n",
              "      <td>397738</td>\n",
              "    </tr>\n",
              "    <tr>\n",
              "      <th>4402</th>\n",
              "      <td>SP</td>\n",
              "      <td>Carapicuíba</td>\n",
              "      <td>392701</td>\n",
              "    </tr>\n",
              "    <tr>\n",
              "      <th>4278</th>\n",
              "      <td>SP</td>\n",
              "      <td>Mogi das Cruzes</td>\n",
              "      <td>375268</td>\n",
              "    </tr>\n",
              "  </tbody>\n",
              "</table>\n",
              "</div>\n",
              "      <button class=\"colab-df-convert\" onclick=\"convertToInteractive('df-569cfd7f-acce-40b7-98bf-67bdaae4bdf8')\"\n",
              "              title=\"Convert this dataframe to an interactive table.\"\n",
              "              style=\"display:none;\">\n",
              "        \n",
              "  <svg xmlns=\"http://www.w3.org/2000/svg\" height=\"24px\"viewBox=\"0 0 24 24\"\n",
              "       width=\"24px\">\n",
              "    <path d=\"M0 0h24v24H0V0z\" fill=\"none\"/>\n",
              "    <path d=\"M18.56 5.44l.94 2.06.94-2.06 2.06-.94-2.06-.94-.94-2.06-.94 2.06-2.06.94zm-11 1L8.5 8.5l.94-2.06 2.06-.94-2.06-.94L8.5 2.5l-.94 2.06-2.06.94zm10 10l.94 2.06.94-2.06 2.06-.94-2.06-.94-.94-2.06-.94 2.06-2.06.94z\"/><path d=\"M17.41 7.96l-1.37-1.37c-.4-.4-.92-.59-1.43-.59-.52 0-1.04.2-1.43.59L10.3 9.45l-7.72 7.72c-.78.78-.78 2.05 0 2.83L4 21.41c.39.39.9.59 1.41.59.51 0 1.02-.2 1.41-.59l7.78-7.78 2.81-2.81c.8-.78.8-2.07 0-2.86zM5.41 20L4 18.59l7.72-7.72 1.47 1.35L5.41 20z\"/>\n",
              "  </svg>\n",
              "      </button>\n",
              "      \n",
              "  <style>\n",
              "    .colab-df-container {\n",
              "      display:flex;\n",
              "      flex-wrap:wrap;\n",
              "      gap: 12px;\n",
              "    }\n",
              "\n",
              "    .colab-df-convert {\n",
              "      background-color: #E8F0FE;\n",
              "      border: none;\n",
              "      border-radius: 50%;\n",
              "      cursor: pointer;\n",
              "      display: none;\n",
              "      fill: #1967D2;\n",
              "      height: 32px;\n",
              "      padding: 0 0 0 0;\n",
              "      width: 32px;\n",
              "    }\n",
              "\n",
              "    .colab-df-convert:hover {\n",
              "      background-color: #E2EBFA;\n",
              "      box-shadow: 0px 1px 2px rgba(60, 64, 67, 0.3), 0px 1px 3px 1px rgba(60, 64, 67, 0.15);\n",
              "      fill: #174EA6;\n",
              "    }\n",
              "\n",
              "    [theme=dark] .colab-df-convert {\n",
              "      background-color: #3B4455;\n",
              "      fill: #D2E3FC;\n",
              "    }\n",
              "\n",
              "    [theme=dark] .colab-df-convert:hover {\n",
              "      background-color: #434B5C;\n",
              "      box-shadow: 0px 1px 3px 1px rgba(0, 0, 0, 0.15);\n",
              "      filter: drop-shadow(0px 1px 2px rgba(0, 0, 0, 0.3));\n",
              "      fill: #FFFFFF;\n",
              "    }\n",
              "  </style>\n",
              "\n",
              "      <script>\n",
              "        const buttonEl =\n",
              "          document.querySelector('#df-569cfd7f-acce-40b7-98bf-67bdaae4bdf8 button.colab-df-convert');\n",
              "        buttonEl.style.display =\n",
              "          google.colab.kernel.accessAllowed ? 'block' : 'none';\n",
              "\n",
              "        async function convertToInteractive(key) {\n",
              "          const element = document.querySelector('#df-569cfd7f-acce-40b7-98bf-67bdaae4bdf8');\n",
              "          const dataTable =\n",
              "            await google.colab.kernel.invokeFunction('convertToInteractive',\n",
              "                                                     [key], {});\n",
              "          if (!dataTable) return;\n",
              "\n",
              "          const docLinkHtml = 'Like what you see? Visit the ' +\n",
              "            '<a target=\"_blank\" href=https://colab.research.google.com/notebooks/data_table.ipynb>data table notebook</a>'\n",
              "            + ' to learn more about interactive tables.';\n",
              "          element.innerHTML = '';\n",
              "          dataTable['output_type'] = 'display_data';\n",
              "          await google.colab.output.renderOutput(dataTable, element);\n",
              "          const docLink = document.createElement('div');\n",
              "          docLink.innerHTML = docLinkHtml;\n",
              "          element.appendChild(docLink);\n",
              "        }\n",
              "      </script>\n",
              "    </div>\n",
              "  </div>\n",
              "  "
            ]
          },
          "metadata": {},
          "execution_count": 21
        }
      ]
    },
    {
      "cell_type": "markdown",
      "metadata": {
        "id": "Wg_la1wOewoB"
      },
      "source": [
        " - Qual é o PIB do estado de Santa Catarina?"
      ]
    },
    {
      "cell_type": "code",
      "metadata": {
        "id": "LwGqow5_ewoB",
        "colab": {
          "base_uri": "https://localhost:8080/"
        },
        "outputId": "c24fd59e-8550-4f51-a31e-22797460f292"
      },
      "source": [
        "# código para responder a pergunta\n",
        "pib_sc = brasil_df.loc[brasil_df['sigla'] == 'SC']['pib'].agg('sum')\n",
        "print(f'PIB total de Santa Catarina: {pib_sc:,}')\n",
        "# escreva {variavelx:,} em print(f'') para separar grandes numeros entre ,"
      ],
      "execution_count": 35,
      "outputs": [
        {
          "output_type": "stream",
          "name": "stdout",
          "text": [
            "PIB total de Santa Catarina: 6,118,743\n"
          ]
        }
      ]
    },
    {
      "cell_type": "markdown",
      "metadata": {
        "id": "Yaw2gDukfApr"
      },
      "source": [
        " - Qual é o população da região sul?"
      ]
    },
    {
      "cell_type": "code",
      "metadata": {
        "id": "enEkNjFQfAps",
        "colab": {
          "base_uri": "https://localhost:8080/"
        },
        "outputId": "1491967a-ab3e-468f-aa32-7e156558f453"
      },
      "source": [
        "# código para responder a pergunta\n",
        "populacao_sul = brasil_df.loc[brasil_df['regiao']=='SUL']['populacao'].agg('sum').round()\n",
        "print(f'populacao total da regiao sulista brasileira: {populacao_sul:,}')"
      ],
      "execution_count": 44,
      "outputs": [
        {
          "output_type": "stream",
          "name": "stdout",
          "text": [
            "populacao total da regiao sulista brasileira: 535,662,084.0\n"
          ]
        }
      ]
    },
    {
      "cell_type": "markdown",
      "metadata": {
        "id": "9qOaKRS9fFu8"
      },
      "source": [
        " - Qual é o PIB per capito médio das cidades do Mato Grosso do Sul?"
      ]
    },
    {
      "cell_type": "code",
      "metadata": {
        "id": "gX8DVSfFfFu9",
        "colab": {
          "base_uri": "https://localhost:8080/"
        },
        "outputId": "3a08d5a8-c4a3-4689-e5fd-cd95eb60e360"
      },
      "source": [
        "# código para responder a pergunta\n",
        "\n",
        "pib_percapt_medio_ms = brasil_df.loc[brasil_df['sigla']=='MS']['pib_percapita'].agg('mean').round(2)\n",
        "print(f'PIB per capita medio do Estado MS: {pib_percapt_medio_ms:,}')"
      ],
      "execution_count": 45,
      "outputs": [
        {
          "output_type": "stream",
          "name": "stdout",
          "text": [
            "PIB per capita medio do Estado MS: 14,458.9\n"
          ]
        }
      ]
    },
    {
      "cell_type": "markdown",
      "metadata": {
        "id": "lvf-VqaffS2D"
      },
      "source": [
        " - Qual é a população do Brasil?"
      ]
    },
    {
      "cell_type": "code",
      "metadata": {
        "id": "_nBsY6EcfS2E",
        "colab": {
          "base_uri": "https://localhost:8080/"
        },
        "outputId": "778a8faf-129c-4ee7-98ae-1fc296561580"
      },
      "source": [
        "# código para responder a pergunta\n",
        "populacao_brasil = brasil_df['populacao'].agg('sum').round()\n",
        "print(f'populacao brasileira total: {populacao_brasil:,}')"
      ],
      "execution_count": 46,
      "outputs": [
        {
          "output_type": "stream",
          "name": "stdout",
          "text": [
            "populacao brasileira total: 3,236,161,767.0\n"
          ]
        }
      ]
    },
    {
      "cell_type": "code",
      "source": [
        "# EXTRA - cidade em que eu moro e suas informacoes\n",
        "\n",
        "piracity = brasil_df.loc[brasil_df['cidade'] == 'Piracicaba']\n",
        "piracity"
      ],
      "metadata": {
        "colab": {
          "base_uri": "https://localhost:8080/",
          "height": 81
        },
        "id": "HhSnRFo3IeZt",
        "outputId": "2255c8d0-9e63-4ca1-8f43-40dd3c2e52c4"
      },
      "execution_count": 48,
      "outputs": [
        {
          "output_type": "execute_result",
          "data": {
            "text/plain": [
              "         estado sigla   regiao      cidade  populacao     pib  pib_percapita\n",
              "4466  SAO PAULO    SP  SUDESTE  Piracicaba  9601211.0  368843   26030.619141"
            ],
            "text/html": [
              "\n",
              "  <div id=\"df-70c217c0-9f72-4c75-adc8-104d298aa9ea\">\n",
              "    <div class=\"colab-df-container\">\n",
              "      <div>\n",
              "<style scoped>\n",
              "    .dataframe tbody tr th:only-of-type {\n",
              "        vertical-align: middle;\n",
              "    }\n",
              "\n",
              "    .dataframe tbody tr th {\n",
              "        vertical-align: top;\n",
              "    }\n",
              "\n",
              "    .dataframe thead th {\n",
              "        text-align: right;\n",
              "    }\n",
              "</style>\n",
              "<table border=\"1\" class=\"dataframe\">\n",
              "  <thead>\n",
              "    <tr style=\"text-align: right;\">\n",
              "      <th></th>\n",
              "      <th>estado</th>\n",
              "      <th>sigla</th>\n",
              "      <th>regiao</th>\n",
              "      <th>cidade</th>\n",
              "      <th>populacao</th>\n",
              "      <th>pib</th>\n",
              "      <th>pib_percapita</th>\n",
              "    </tr>\n",
              "  </thead>\n",
              "  <tbody>\n",
              "    <tr>\n",
              "      <th>4466</th>\n",
              "      <td>SAO PAULO</td>\n",
              "      <td>SP</td>\n",
              "      <td>SUDESTE</td>\n",
              "      <td>Piracicaba</td>\n",
              "      <td>9601211.0</td>\n",
              "      <td>368843</td>\n",
              "      <td>26030.619141</td>\n",
              "    </tr>\n",
              "  </tbody>\n",
              "</table>\n",
              "</div>\n",
              "      <button class=\"colab-df-convert\" onclick=\"convertToInteractive('df-70c217c0-9f72-4c75-adc8-104d298aa9ea')\"\n",
              "              title=\"Convert this dataframe to an interactive table.\"\n",
              "              style=\"display:none;\">\n",
              "        \n",
              "  <svg xmlns=\"http://www.w3.org/2000/svg\" height=\"24px\"viewBox=\"0 0 24 24\"\n",
              "       width=\"24px\">\n",
              "    <path d=\"M0 0h24v24H0V0z\" fill=\"none\"/>\n",
              "    <path d=\"M18.56 5.44l.94 2.06.94-2.06 2.06-.94-2.06-.94-.94-2.06-.94 2.06-2.06.94zm-11 1L8.5 8.5l.94-2.06 2.06-.94-2.06-.94L8.5 2.5l-.94 2.06-2.06.94zm10 10l.94 2.06.94-2.06 2.06-.94-2.06-.94-.94-2.06-.94 2.06-2.06.94z\"/><path d=\"M17.41 7.96l-1.37-1.37c-.4-.4-.92-.59-1.43-.59-.52 0-1.04.2-1.43.59L10.3 9.45l-7.72 7.72c-.78.78-.78 2.05 0 2.83L4 21.41c.39.39.9.59 1.41.59.51 0 1.02-.2 1.41-.59l7.78-7.78 2.81-2.81c.8-.78.8-2.07 0-2.86zM5.41 20L4 18.59l7.72-7.72 1.47 1.35L5.41 20z\"/>\n",
              "  </svg>\n",
              "      </button>\n",
              "      \n",
              "  <style>\n",
              "    .colab-df-container {\n",
              "      display:flex;\n",
              "      flex-wrap:wrap;\n",
              "      gap: 12px;\n",
              "    }\n",
              "\n",
              "    .colab-df-convert {\n",
              "      background-color: #E8F0FE;\n",
              "      border: none;\n",
              "      border-radius: 50%;\n",
              "      cursor: pointer;\n",
              "      display: none;\n",
              "      fill: #1967D2;\n",
              "      height: 32px;\n",
              "      padding: 0 0 0 0;\n",
              "      width: 32px;\n",
              "    }\n",
              "\n",
              "    .colab-df-convert:hover {\n",
              "      background-color: #E2EBFA;\n",
              "      box-shadow: 0px 1px 2px rgba(60, 64, 67, 0.3), 0px 1px 3px 1px rgba(60, 64, 67, 0.15);\n",
              "      fill: #174EA6;\n",
              "    }\n",
              "\n",
              "    [theme=dark] .colab-df-convert {\n",
              "      background-color: #3B4455;\n",
              "      fill: #D2E3FC;\n",
              "    }\n",
              "\n",
              "    [theme=dark] .colab-df-convert:hover {\n",
              "      background-color: #434B5C;\n",
              "      box-shadow: 0px 1px 3px 1px rgba(0, 0, 0, 0.15);\n",
              "      filter: drop-shadow(0px 1px 2px rgba(0, 0, 0, 0.3));\n",
              "      fill: #FFFFFF;\n",
              "    }\n",
              "  </style>\n",
              "\n",
              "      <script>\n",
              "        const buttonEl =\n",
              "          document.querySelector('#df-70c217c0-9f72-4c75-adc8-104d298aa9ea button.colab-df-convert');\n",
              "        buttonEl.style.display =\n",
              "          google.colab.kernel.accessAllowed ? 'block' : 'none';\n",
              "\n",
              "        async function convertToInteractive(key) {\n",
              "          const element = document.querySelector('#df-70c217c0-9f72-4c75-adc8-104d298aa9ea');\n",
              "          const dataTable =\n",
              "            await google.colab.kernel.invokeFunction('convertToInteractive',\n",
              "                                                     [key], {});\n",
              "          if (!dataTable) return;\n",
              "\n",
              "          const docLinkHtml = 'Like what you see? Visit the ' +\n",
              "            '<a target=\"_blank\" href=https://colab.research.google.com/notebooks/data_table.ipynb>data table notebook</a>'\n",
              "            + ' to learn more about interactive tables.';\n",
              "          element.innerHTML = '';\n",
              "          dataTable['output_type'] = 'display_data';\n",
              "          await google.colab.output.renderOutput(dataTable, element);\n",
              "          const docLink = document.createElement('div');\n",
              "          docLink.innerHTML = docLinkHtml;\n",
              "          element.appendChild(docLink);\n",
              "        }\n",
              "      </script>\n",
              "    </div>\n",
              "  </div>\n",
              "  "
            ]
          },
          "metadata": {},
          "execution_count": 48
        }
      ]
    },
    {
      "cell_type": "code",
      "source": [
        "x = brasil_df.loc[brasil_df['populacao'] <=40000][['estado','cidade','regiao']]\n",
        "x"
      ],
      "metadata": {
        "colab": {
          "base_uri": "https://localhost:8080/",
          "height": 423
        },
        "id": "xSvyuAvY-Vid",
        "outputId": "0b221467-c6cc-468e-e869-2129f2e45813"
      },
      "execution_count": 27,
      "outputs": [
        {
          "output_type": "execute_result",
          "data": {
            "text/plain": [
              "            estado                   cidade    regiao\n",
              "8             ACRE      Santa Rosa do Purus     NORTE\n",
              "22         ALAGOAS             Dois Riachos  NORDESTE\n",
              "23         ALAGOAS                    Belém  NORDESTE\n",
              "28         ALAGOAS  São Miguel dos Milagres  NORDESTE\n",
              "29         ALAGOAS    Olho D'Água do Casado  NORDESTE\n",
              "...            ...                      ...       ...\n",
              "5541  MINAS GERAIS                 Jampruca   SUDESTE\n",
              "5545  MINAS GERAIS  José Gonçalves de Minas   SUDESTE\n",
              "5549  MINAS GERAIS                  Pequeri   SUDESTE\n",
              "5550  MINAS GERAIS             Nacip Raydan   SUDESTE\n",
              "5554  MINAS GERAIS  São Francisco do Glória   SUDESTE\n",
              "\n",
              "[1459 rows x 3 columns]"
            ],
            "text/html": [
              "\n",
              "  <div id=\"df-c82c70a2-d449-476d-b4df-b6f3f59e887c\">\n",
              "    <div class=\"colab-df-container\">\n",
              "      <div>\n",
              "<style scoped>\n",
              "    .dataframe tbody tr th:only-of-type {\n",
              "        vertical-align: middle;\n",
              "    }\n",
              "\n",
              "    .dataframe tbody tr th {\n",
              "        vertical-align: top;\n",
              "    }\n",
              "\n",
              "    .dataframe thead th {\n",
              "        text-align: right;\n",
              "    }\n",
              "</style>\n",
              "<table border=\"1\" class=\"dataframe\">\n",
              "  <thead>\n",
              "    <tr style=\"text-align: right;\">\n",
              "      <th></th>\n",
              "      <th>estado</th>\n",
              "      <th>cidade</th>\n",
              "      <th>regiao</th>\n",
              "    </tr>\n",
              "  </thead>\n",
              "  <tbody>\n",
              "    <tr>\n",
              "      <th>8</th>\n",
              "      <td>ACRE</td>\n",
              "      <td>Santa Rosa do Purus</td>\n",
              "      <td>NORTE</td>\n",
              "    </tr>\n",
              "    <tr>\n",
              "      <th>22</th>\n",
              "      <td>ALAGOAS</td>\n",
              "      <td>Dois Riachos</td>\n",
              "      <td>NORDESTE</td>\n",
              "    </tr>\n",
              "    <tr>\n",
              "      <th>23</th>\n",
              "      <td>ALAGOAS</td>\n",
              "      <td>Belém</td>\n",
              "      <td>NORDESTE</td>\n",
              "    </tr>\n",
              "    <tr>\n",
              "      <th>28</th>\n",
              "      <td>ALAGOAS</td>\n",
              "      <td>São Miguel dos Milagres</td>\n",
              "      <td>NORDESTE</td>\n",
              "    </tr>\n",
              "    <tr>\n",
              "      <th>29</th>\n",
              "      <td>ALAGOAS</td>\n",
              "      <td>Olho D'Água do Casado</td>\n",
              "      <td>NORDESTE</td>\n",
              "    </tr>\n",
              "    <tr>\n",
              "      <th>...</th>\n",
              "      <td>...</td>\n",
              "      <td>...</td>\n",
              "      <td>...</td>\n",
              "    </tr>\n",
              "    <tr>\n",
              "      <th>5541</th>\n",
              "      <td>MINAS GERAIS</td>\n",
              "      <td>Jampruca</td>\n",
              "      <td>SUDESTE</td>\n",
              "    </tr>\n",
              "    <tr>\n",
              "      <th>5545</th>\n",
              "      <td>MINAS GERAIS</td>\n",
              "      <td>José Gonçalves de Minas</td>\n",
              "      <td>SUDESTE</td>\n",
              "    </tr>\n",
              "    <tr>\n",
              "      <th>5549</th>\n",
              "      <td>MINAS GERAIS</td>\n",
              "      <td>Pequeri</td>\n",
              "      <td>SUDESTE</td>\n",
              "    </tr>\n",
              "    <tr>\n",
              "      <th>5550</th>\n",
              "      <td>MINAS GERAIS</td>\n",
              "      <td>Nacip Raydan</td>\n",
              "      <td>SUDESTE</td>\n",
              "    </tr>\n",
              "    <tr>\n",
              "      <th>5554</th>\n",
              "      <td>MINAS GERAIS</td>\n",
              "      <td>São Francisco do Glória</td>\n",
              "      <td>SUDESTE</td>\n",
              "    </tr>\n",
              "  </tbody>\n",
              "</table>\n",
              "<p>1459 rows × 3 columns</p>\n",
              "</div>\n",
              "      <button class=\"colab-df-convert\" onclick=\"convertToInteractive('df-c82c70a2-d449-476d-b4df-b6f3f59e887c')\"\n",
              "              title=\"Convert this dataframe to an interactive table.\"\n",
              "              style=\"display:none;\">\n",
              "        \n",
              "  <svg xmlns=\"http://www.w3.org/2000/svg\" height=\"24px\"viewBox=\"0 0 24 24\"\n",
              "       width=\"24px\">\n",
              "    <path d=\"M0 0h24v24H0V0z\" fill=\"none\"/>\n",
              "    <path d=\"M18.56 5.44l.94 2.06.94-2.06 2.06-.94-2.06-.94-.94-2.06-.94 2.06-2.06.94zm-11 1L8.5 8.5l.94-2.06 2.06-.94-2.06-.94L8.5 2.5l-.94 2.06-2.06.94zm10 10l.94 2.06.94-2.06 2.06-.94-2.06-.94-.94-2.06-.94 2.06-2.06.94z\"/><path d=\"M17.41 7.96l-1.37-1.37c-.4-.4-.92-.59-1.43-.59-.52 0-1.04.2-1.43.59L10.3 9.45l-7.72 7.72c-.78.78-.78 2.05 0 2.83L4 21.41c.39.39.9.59 1.41.59.51 0 1.02-.2 1.41-.59l7.78-7.78 2.81-2.81c.8-.78.8-2.07 0-2.86zM5.41 20L4 18.59l7.72-7.72 1.47 1.35L5.41 20z\"/>\n",
              "  </svg>\n",
              "      </button>\n",
              "      \n",
              "  <style>\n",
              "    .colab-df-container {\n",
              "      display:flex;\n",
              "      flex-wrap:wrap;\n",
              "      gap: 12px;\n",
              "    }\n",
              "\n",
              "    .colab-df-convert {\n",
              "      background-color: #E8F0FE;\n",
              "      border: none;\n",
              "      border-radius: 50%;\n",
              "      cursor: pointer;\n",
              "      display: none;\n",
              "      fill: #1967D2;\n",
              "      height: 32px;\n",
              "      padding: 0 0 0 0;\n",
              "      width: 32px;\n",
              "    }\n",
              "\n",
              "    .colab-df-convert:hover {\n",
              "      background-color: #E2EBFA;\n",
              "      box-shadow: 0px 1px 2px rgba(60, 64, 67, 0.3), 0px 1px 3px 1px rgba(60, 64, 67, 0.15);\n",
              "      fill: #174EA6;\n",
              "    }\n",
              "\n",
              "    [theme=dark] .colab-df-convert {\n",
              "      background-color: #3B4455;\n",
              "      fill: #D2E3FC;\n",
              "    }\n",
              "\n",
              "    [theme=dark] .colab-df-convert:hover {\n",
              "      background-color: #434B5C;\n",
              "      box-shadow: 0px 1px 3px 1px rgba(0, 0, 0, 0.15);\n",
              "      filter: drop-shadow(0px 1px 2px rgba(0, 0, 0, 0.3));\n",
              "      fill: #FFFFFF;\n",
              "    }\n",
              "  </style>\n",
              "\n",
              "      <script>\n",
              "        const buttonEl =\n",
              "          document.querySelector('#df-c82c70a2-d449-476d-b4df-b6f3f59e887c button.colab-df-convert');\n",
              "        buttonEl.style.display =\n",
              "          google.colab.kernel.accessAllowed ? 'block' : 'none';\n",
              "\n",
              "        async function convertToInteractive(key) {\n",
              "          const element = document.querySelector('#df-c82c70a2-d449-476d-b4df-b6f3f59e887c');\n",
              "          const dataTable =\n",
              "            await google.colab.kernel.invokeFunction('convertToInteractive',\n",
              "                                                     [key], {});\n",
              "          if (!dataTable) return;\n",
              "\n",
              "          const docLinkHtml = 'Like what you see? Visit the ' +\n",
              "            '<a target=\"_blank\" href=https://colab.research.google.com/notebooks/data_table.ipynb>data table notebook</a>'\n",
              "            + ' to learn more about interactive tables.';\n",
              "          element.innerHTML = '';\n",
              "          dataTable['output_type'] = 'display_data';\n",
              "          await google.colab.output.renderOutput(dataTable, element);\n",
              "          const docLink = document.createElement('div');\n",
              "          docLink.innerHTML = docLinkHtml;\n",
              "          element.appendChild(docLink);\n",
              "        }\n",
              "      </script>\n",
              "    </div>\n",
              "  </div>\n",
              "  "
            ]
          },
          "metadata": {},
          "execution_count": 27
        }
      ]
    },
    {
      "cell_type": "markdown",
      "metadata": {
        "id": "hnTSARXpipkP"
      },
      "source": [
        "### **2.3. Visualização**"
      ]
    },
    {
      "cell_type": "markdown",
      "metadata": {
        "id": "7coMkY8xixFO"
      },
      "source": [
        "Utilize o dataframe `brasil_df` para gerar as seguintes visualizações."
      ]
    },
    {
      "cell_type": "markdown",
      "metadata": {
        "id": "SgvPvh4Vjctx"
      },
      "source": [
        " - Gere um gráfico de barras com as 10 cidades menos populosas do Brasil."
      ]
    },
    {
      "cell_type": "code",
      "metadata": {
        "id": "V8eM0uEUjcty",
        "colab": {
          "base_uri": "https://localhost:8080/",
          "height": 649
        },
        "outputId": "a35b7ad7-f023-4281-bf62-134d3935c802"
      },
      "source": [
        "# código para gerar a visualização\n",
        "cidades_menos_pop = brasil_df.sort_values(by='populacao',ascending=False).tail(10)\n",
        "\n",
        "# fiz o ascending=False e peguei os dados pelo fim do dataframe para ordenar o grafico\n",
        "# apresentando a mais populosa para a menos populosa\n",
        "cidades_menos_pop.plot.bar(x='cidade',y='populacao',legend=False)"
      ],
      "execution_count": 28,
      "outputs": [
        {
          "output_type": "execute_result",
          "data": {
            "text/plain": [
              "<Axes: xlabel='cidade'>"
            ]
          },
          "metadata": {},
          "execution_count": 28
        },
        {
          "output_type": "display_data",
          "data": {
            "text/plain": [
              "<Figure size 640x480 with 1 Axes>"
            ],
            "image/png": "[encoded data removed]"
          },
          "metadata": {}
        }
      ]
    },
    {
      "cell_type": "markdown",
      "metadata": {
        "id": "gsa3SrTjjrGV"
      },
      "source": [
        " - Gere um gráfico de pizza com a proporção da população do Brasil por região."
      ]
    },
    {
      "cell_type": "code",
      "source": [
        "# verificando quais os indices de regioes do brasil_df\n",
        "regioes_serie = brasil_df['regiao']\n",
        "regioes_lista = list(set(regioes_serie))\n",
        "regioes_lista"
      ],
      "metadata": {
        "colab": {
          "base_uri": "https://localhost:8080/"
        },
        "id": "2ELjCPjrxCAr",
        "outputId": "3907fe15-3fd4-46d3-d193-05b5d3f2903a"
      },
      "execution_count": 29,
      "outputs": [
        {
          "output_type": "execute_result",
          "data": {
            "text/plain": [
              "['SUDESTE', 'NORTE', 'NORDESTE', 'CENTRO-OESTE', 'SUL']"
            ]
          },
          "metadata": {},
          "execution_count": 29
        }
      ]
    },
    {
      "cell_type": "code",
      "source": [
        "brasil_df = pd.read_csv('brasil.csv')"
      ],
      "metadata": {
        "id": "LZC8sEOrXoog"
      },
      "execution_count": 30,
      "outputs": []
    },
    {
      "cell_type": "code",
      "metadata": {
        "id": "1dvqIAEHjrGV",
        "colab": {
          "base_uri": "https://localhost:8080/",
          "height": 423
        },
        "outputId": "c324ea29-4049-4954-9204-349d155bddff"
      },
      "source": [
        "# somando a quantidade de populacao em cada regiao\n",
        "pop_norte = brasil_df.loc[brasil_df['regiao'] == 'NORTE']['populacao'].agg('sum').round(1)\n",
        "pop_nordeste = brasil_df.loc[brasil_df['regiao'] == 'NORDESTE']['populacao'].agg('sum').round(1)\n",
        "pop_centro = brasil_df.loc[brasil_df['regiao'] == 'CENTRO-OESTE']['populacao'].agg('sum').round(1)\n",
        "pop_sudest = brasil_df.loc[brasil_df['regiao'] == 'SUDESTE']['populacao'].agg('sum').round(1)\n",
        "pop_sul = brasil_df.loc[brasil_df['regiao'] == 'SUL']['populacao'].agg('sum').round(1)\n",
        "\n",
        "# adicionando os valores arredondados das populacoes neste dict e gerando um dataframe dele\n",
        "dict_pop = {\n",
        "    'norte':pop_norte,\n",
        "    'nordeste':pop_nordeste,\n",
        "    'centro-oeste':pop_centro,\n",
        "    'sudeste':pop_sudest,\n",
        "    'sul':pop_sul\n",
        "}\n",
        "populacao_regiao_df = pd.DataFrame(pd.Series(dict_pop), columns=['populacao'])\n",
        "populacao_regiao_df.index.name = 'regiao'\n",
        "\n",
        "# gerando o gráfico de pizza\n",
        "populacao_regiao_df.plot.pie(y='populacao',legend=False)"
      ],
      "execution_count": 31,
      "outputs": [
        {
          "output_type": "execute_result",
          "data": {
            "text/plain": [
              "<Axes: ylabel='populacao'>"
            ]
          },
          "metadata": {},
          "execution_count": 31
        },
        {
          "output_type": "display_data",
          "data": {
            "text/plain": [
              "<Figure size 640x480 with 1 Axes>"
            ],
            "image/png": "[encoded data removed]"
          },
          "metadata": {}
        }
      ]
    },
    {
      "cell_type": "markdown",
      "source": [
        "EXTRA - Criando o gráfico de pizza usando `groupby()` para agrupar a populacao de cada regiao, de forma mais ágil"
      ],
      "metadata": {
        "id": "-NsXj7aXZW7s"
      }
    },
    {
      "cell_type": "code",
      "source": [
        "# groupby() agrupa a populacao por regiao, no novo df definido logo abaixo\n",
        "df_pop_regioes = brasil_df[['regiao','populacao']].groupby('regiao').agg('sum').reset_index()\n",
        "\n",
        "# depois, so gerar o grafico\n",
        "# o labels é onde define o nome de cada seção do grafico\n",
        "df_pop_regioes.plot.pie(y='populacao',labels=df_pop_regioes['regiao'],legend=False)"
      ],
      "metadata": {
        "colab": {
          "base_uri": "https://localhost:8080/",
          "height": 423
        },
        "id": "7hk38nuXXMv9",
        "outputId": "bfa74ce0-8e00-4e19-f6fc-fb7091473a86"
      },
      "execution_count": 32,
      "outputs": [
        {
          "output_type": "execute_result",
          "data": {
            "text/plain": [
              "<Axes: ylabel='populacao'>"
            ]
          },
          "metadata": {},
          "execution_count": 32
        },
        {
          "output_type": "display_data",
          "data": {
            "text/plain": [
              "<Figure size 640x480 with 1 Axes>"
            ],
            "image/png": "[encoded data removed]"
          },
          "metadata": {}
        }
      ]
    }
  ]
}